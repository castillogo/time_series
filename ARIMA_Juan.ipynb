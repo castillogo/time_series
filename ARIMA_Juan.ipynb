{
 "cells": [
  {
   "cell_type": "markdown",
   "metadata": {},
   "source": [
    "# ARIMA"
   ]
  },
  {
   "cell_type": "markdown",
   "metadata": {},
   "source": [
    "### Get a Time Series to analyze"
   ]
  },
  {
   "cell_type": "code",
   "execution_count": 1,
   "metadata": {},
   "outputs": [],
   "source": [
    "import seaborn as sns\n",
    "from matplotlib import pyplot as plt\n",
    "import random\n",
    "import pandas as pd\n",
    "%matplotlib inline\n",
    "\n",
    "df = sns.load_dataset('flights')"
   ]
  },
  {
   "cell_type": "code",
   "execution_count": 2,
   "metadata": {},
   "outputs": [],
   "source": [
    "NYcrime = pd.read_csv('NYPD_Complaint_Data_Current_YTD.csv')"
   ]
  },
  {
   "cell_type": "code",
   "execution_count": 3,
   "metadata": {},
   "outputs": [],
   "source": [
    "NYcrime2=NYcrime.groupby(['CMPLNT_FR_DT']).size().reset_index(name='counts')"
   ]
  },
  {
   "cell_type": "code",
   "execution_count": 4,
   "metadata": {},
   "outputs": [],
   "source": [
    "NYcrime2['YEAR'] = NYcrime2.CMPLNT_FR_DT.str[-4:]"
   ]
  },
  {
   "cell_type": "code",
   "execution_count": 5,
   "metadata": {},
   "outputs": [],
   "source": [
    "NYcrime2['YEAR'] = pd.to_numeric(NYcrime2['YEAR']) "
   ]
  },
  {
   "cell_type": "code",
   "execution_count": 6,
   "metadata": {},
   "outputs": [],
   "source": [
    "NYcrime3 = NYcrime2[NYcrime2.YEAR == 2016]"
   ]
  },
  {
   "cell_type": "code",
   "execution_count": 7,
   "metadata": {},
   "outputs": [
    {
     "name": "stderr",
     "output_type": "stream",
     "text": [
      "C:\\Users\\casti\\AppData\\Local\\Continuum\\anaconda3\\lib\\site-packages\\ipykernel_launcher.py:1: SettingWithCopyWarning: \n",
      "A value is trying to be set on a copy of a slice from a DataFrame.\n",
      "Try using .loc[row_indexer,col_indexer] = value instead\n",
      "\n",
      "See the caveats in the documentation: http://pandas.pydata.org/pandas-docs/stable/user_guide/indexing.html#returning-a-view-versus-a-copy\n",
      "  \"\"\"Entry point for launching an IPython kernel.\n"
     ]
    }
   ],
   "source": [
    "NYcrime3['Datetime'] = pd.to_datetime(NYcrime3['CMPLNT_FR_DT'])"
   ]
  },
  {
   "cell_type": "code",
   "execution_count": 8,
   "metadata": {},
   "outputs": [],
   "source": [
    "NYcrime4 = NYcrime3[['Datetime','counts']]"
   ]
  },
  {
   "cell_type": "code",
   "execution_count": 9,
   "metadata": {},
   "outputs": [],
   "source": [
    "NYcrime5=NYcrime4.reset_index()"
   ]
  },
  {
   "cell_type": "code",
   "execution_count": 10,
   "metadata": {},
   "outputs": [],
   "source": [
    "NYcrime5=NYcrime5.drop(['index'], axis=1)"
   ]
  },
  {
   "cell_type": "code",
   "execution_count": 11,
   "metadata": {},
   "outputs": [
    {
     "data": {
      "text/html": [
       "<div>\n",
       "<style scoped>\n",
       "    .dataframe tbody tr th:only-of-type {\n",
       "        vertical-align: middle;\n",
       "    }\n",
       "\n",
       "    .dataframe tbody tr th {\n",
       "        vertical-align: top;\n",
       "    }\n",
       "\n",
       "    .dataframe thead th {\n",
       "        text-align: right;\n",
       "    }\n",
       "</style>\n",
       "<table border=\"1\" class=\"dataframe\">\n",
       "  <thead>\n",
       "    <tr style=\"text-align: right;\">\n",
       "      <th></th>\n",
       "      <th>Datetime</th>\n",
       "      <th>counts</th>\n",
       "    </tr>\n",
       "  </thead>\n",
       "  <tbody>\n",
       "    <tr>\n",
       "      <td>0</td>\n",
       "      <td>2016-01-01</td>\n",
       "      <td>2077</td>\n",
       "    </tr>\n",
       "    <tr>\n",
       "      <td>1</td>\n",
       "      <td>2016-01-02</td>\n",
       "      <td>1181</td>\n",
       "    </tr>\n",
       "    <tr>\n",
       "      <td>2</td>\n",
       "      <td>2016-01-03</td>\n",
       "      <td>1072</td>\n",
       "    </tr>\n",
       "    <tr>\n",
       "      <td>3</td>\n",
       "      <td>2016-01-04</td>\n",
       "      <td>1086</td>\n",
       "    </tr>\n",
       "    <tr>\n",
       "      <td>4</td>\n",
       "      <td>2016-01-05</td>\n",
       "      <td>1040</td>\n",
       "    </tr>\n",
       "    <tr>\n",
       "      <td>...</td>\n",
       "      <td>...</td>\n",
       "      <td>...</td>\n",
       "    </tr>\n",
       "    <tr>\n",
       "      <td>269</td>\n",
       "      <td>2016-09-26</td>\n",
       "      <td>1090</td>\n",
       "    </tr>\n",
       "    <tr>\n",
       "      <td>270</td>\n",
       "      <td>2016-09-27</td>\n",
       "      <td>1112</td>\n",
       "    </tr>\n",
       "    <tr>\n",
       "      <td>271</td>\n",
       "      <td>2016-09-28</td>\n",
       "      <td>1149</td>\n",
       "    </tr>\n",
       "    <tr>\n",
       "      <td>272</td>\n",
       "      <td>2016-09-29</td>\n",
       "      <td>1048</td>\n",
       "    </tr>\n",
       "    <tr>\n",
       "      <td>273</td>\n",
       "      <td>2016-09-30</td>\n",
       "      <td>777</td>\n",
       "    </tr>\n",
       "  </tbody>\n",
       "</table>\n",
       "<p>274 rows × 2 columns</p>\n",
       "</div>"
      ],
      "text/plain": [
       "      Datetime  counts\n",
       "0   2016-01-01    2077\n",
       "1   2016-01-02    1181\n",
       "2   2016-01-03    1072\n",
       "3   2016-01-04    1086\n",
       "4   2016-01-05    1040\n",
       "..         ...     ...\n",
       "269 2016-09-26    1090\n",
       "270 2016-09-27    1112\n",
       "271 2016-09-28    1149\n",
       "272 2016-09-29    1048\n",
       "273 2016-09-30     777\n",
       "\n",
       "[274 rows x 2 columns]"
      ]
     },
     "execution_count": 11,
     "metadata": {},
     "output_type": "execute_result"
    }
   ],
   "source": [
    "NYcrime5"
   ]
  },
  {
   "cell_type": "code",
   "execution_count": 12,
   "metadata": {},
   "outputs": [
    {
     "name": "stderr",
     "output_type": "stream",
     "text": [
      "C:\\Users\\casti\\AppData\\Local\\Continuum\\anaconda3\\lib\\site-packages\\pandas\\plotting\\_matplotlib\\converter.py:103: FutureWarning: Using an implicitly registered datetime converter for a matplotlib plotting method. The converter was registered by pandas on import. Future versions of pandas will require you to explicitly register matplotlib converters.\n",
      "\n",
      "To register the converters:\n",
      "\t>>> from pandas.plotting import register_matplotlib_converters\n",
      "\t>>> register_matplotlib_converters()\n",
      "  warnings.warn(msg, FutureWarning)\n"
     ]
    },
    {
     "data": {
      "text/plain": [
       "<matplotlib.collections.PathCollection at 0x13d80097f48>"
      ]
     },
     "execution_count": 12,
     "metadata": {},
     "output_type": "execute_result"
    },
    {
     "data": {
      "image/png": "[encoded data removed]",
      "text/plain": [
       "<Figure size 2160x432 with 1 Axes>"
      ]
     },
     "metadata": {
      "needs_background": "light"
     },
     "output_type": "display_data"
    }
   ],
   "source": [
    "plt.rcParams['figure.figsize'] = (30,6)\n",
    "plt.scatter(NYcrime5['Datetime'], NYcrime5['counts'])"
   ]
  },
  {
   "cell_type": "markdown",
   "metadata": {},
   "source": [
    "## ARIMA models require the data to be stationary\n",
    "\n",
    "1. Non-seasonal\n",
    "2. Without a trend\n",
    "\n",
    "**We want to exclude autocorrelation**. We call a non-autocorrelated time series **stationary**."
   ]
  },
  {
   "cell_type": "markdown",
   "metadata": {},
   "source": [
    "### Autocorrelation\n",
    "correlation for each time shift -> ACF plot"
   ]
  },
  {
   "cell_type": "markdown",
   "metadata": {},
   "source": [
    "if the ACF plot drops quickly to near-zero, you have neither a trend nor seasonality"
   ]
  },
  {
   "cell_type": "code",
   "execution_count": 13,
   "metadata": {},
   "outputs": [
    {
     "data": {
      "text/html": [
       "<div>\n",
       "<style scoped>\n",
       "    .dataframe tbody tr th:only-of-type {\n",
       "        vertical-align: middle;\n",
       "    }\n",
       "\n",
       "    .dataframe tbody tr th {\n",
       "        vertical-align: top;\n",
       "    }\n",
       "\n",
       "    .dataframe thead th {\n",
       "        text-align: right;\n",
       "    }\n",
       "</style>\n",
       "<table border=\"1\" class=\"dataframe\">\n",
       "  <thead>\n",
       "    <tr style=\"text-align: right;\">\n",
       "      <th></th>\n",
       "      <th>Datetime</th>\n",
       "      <th>counts</th>\n",
       "    </tr>\n",
       "  </thead>\n",
       "  <tbody>\n",
       "    <tr>\n",
       "      <td>0</td>\n",
       "      <td>2016-01-01</td>\n",
       "      <td>2077</td>\n",
       "    </tr>\n",
       "    <tr>\n",
       "      <td>1</td>\n",
       "      <td>2016-01-02</td>\n",
       "      <td>1181</td>\n",
       "    </tr>\n",
       "    <tr>\n",
       "      <td>2</td>\n",
       "      <td>2016-01-03</td>\n",
       "      <td>1072</td>\n",
       "    </tr>\n",
       "    <tr>\n",
       "      <td>3</td>\n",
       "      <td>2016-01-04</td>\n",
       "      <td>1086</td>\n",
       "    </tr>\n",
       "    <tr>\n",
       "      <td>4</td>\n",
       "      <td>2016-01-05</td>\n",
       "      <td>1040</td>\n",
       "    </tr>\n",
       "    <tr>\n",
       "      <td>...</td>\n",
       "      <td>...</td>\n",
       "      <td>...</td>\n",
       "    </tr>\n",
       "    <tr>\n",
       "      <td>269</td>\n",
       "      <td>2016-09-26</td>\n",
       "      <td>1090</td>\n",
       "    </tr>\n",
       "    <tr>\n",
       "      <td>270</td>\n",
       "      <td>2016-09-27</td>\n",
       "      <td>1112</td>\n",
       "    </tr>\n",
       "    <tr>\n",
       "      <td>271</td>\n",
       "      <td>2016-09-28</td>\n",
       "      <td>1149</td>\n",
       "    </tr>\n",
       "    <tr>\n",
       "      <td>272</td>\n",
       "      <td>2016-09-29</td>\n",
       "      <td>1048</td>\n",
       "    </tr>\n",
       "    <tr>\n",
       "      <td>273</td>\n",
       "      <td>2016-09-30</td>\n",
       "      <td>777</td>\n",
       "    </tr>\n",
       "  </tbody>\n",
       "</table>\n",
       "<p>274 rows × 2 columns</p>\n",
       "</div>"
      ],
      "text/plain": [
       "      Datetime  counts\n",
       "0   2016-01-01    2077\n",
       "1   2016-01-02    1181\n",
       "2   2016-01-03    1072\n",
       "3   2016-01-04    1086\n",
       "4   2016-01-05    1040\n",
       "..         ...     ...\n",
       "269 2016-09-26    1090\n",
       "270 2016-09-27    1112\n",
       "271 2016-09-28    1149\n",
       "272 2016-09-29    1048\n",
       "273 2016-09-30     777\n",
       "\n",
       "[274 rows x 2 columns]"
      ]
     },
     "execution_count": 13,
     "metadata": {},
     "output_type": "execute_result"
    }
   ],
   "source": [
    "NYcrime5"
   ]
  },
  {
   "cell_type": "code",
   "execution_count": 14,
   "metadata": {},
   "outputs": [
    {
     "data": {
      "image/png": "[encoded data removed]",
      "text/plain": [
       "<Figure size 2160x432 with 1 Axes>"
      ]
     },
     "metadata": {
      "needs_background": "light"
     },
     "output_type": "display_data"
    }
   ],
   "source": [
    "from statsmodels.graphics.tsaplots import plot_acf\n",
    "\n",
    "plot_acf(NYcrime5['counts'], lags=273)\n",
    "None"
   ]
  },
  {
   "cell_type": "code",
   "execution_count": null,
   "metadata": {},
   "outputs": [],
   "source": []
  },
  {
   "cell_type": "markdown",
   "metadata": {},
   "source": [
    "### Autoregressive Model\n",
    "\n",
    "p - hyperparameter: how many periods we look into the past\n",
    "\n",
    "AR(p):\n",
    "\n",
    "$y_t = c + a_1 y_{t-1} + a_2 y_{t-2} .. + a_p y_{t-p} + \\epsilon_t$"
   ]
  },
  {
   "cell_type": "code",
   "execution_count": 15,
   "metadata": {},
   "outputs": [],
   "source": [
    "import math\n",
    "# generate data (200 periods) using an AR(2) process\n",
    "# with parameters: c= 8, w1= 1.3, w2=-0.7\n",
    "random.seed(42)\n",
    "\n",
    "data = NYcrime5.counts\n",
    "c = 8.0\n",
    "a1 = 1.3\n",
    "a2 = -0.7\n",
    "\n",
    "#for i in range(243):\n",
    "#    # math.sin(10*i) * \n",
    "#    yt = c + a1 * data[-1] + a2 * data[-2] + random.gauss(mu=0.0, sigma=1.0)\n",
    "#   data.append(yt)"
   ]
  },
  {
   "cell_type": "code",
   "execution_count": 16,
   "metadata": {},
   "outputs": [
    {
     "data": {
      "text/plain": [
       "[<matplotlib.lines.Line2D at 0x13d8078ac88>]"
      ]
     },
     "execution_count": 16,
     "metadata": {},
     "output_type": "execute_result"
    },
    {
     "data": {
      "image/png": "[encoded data removed]",
      "text/plain": [
       "<Figure size 2160x432 with 1 Axes>"
      ]
     },
     "metadata": {
      "needs_background": "light"
     },
     "output_type": "display_data"
    }
   ],
   "source": [
    "plt.plot(range(274), data)"
   ]
  },
  {
   "cell_type": "code",
   "execution_count": 17,
   "metadata": {},
   "outputs": [
    {
     "data": {
      "image/png": "[encoded data removed]",
      "text/plain": [
       "<Figure size 2160x432 with 1 Axes>"
      ]
     },
     "metadata": {
      "needs_background": "light"
     },
     "output_type": "display_data"
    }
   ],
   "source": [
    "plot_acf(data, lags=273)\n",
    "None"
   ]
  },
  {
   "cell_type": "code",
   "execution_count": null,
   "metadata": {},
   "outputs": [],
   "source": []
  },
  {
   "cell_type": "markdown",
   "metadata": {},
   "source": [
    "### Initialize and fit an ARIMA model\n",
    "\n",
    "also see: Seasonal Arima (SARIMAX)"
   ]
  },
  {
   "cell_type": "code",
   "execution_count": 18,
   "metadata": {},
   "outputs": [],
   "source": [
    "from statsmodels.tsa.arima_model import ARIMA\n",
    "import numpy as np"
   ]
  },
  {
   "cell_type": "code",
   "execution_count": 19,
   "metadata": {},
   "outputs": [],
   "source": [
    "data = NYcrime5.counts\n",
    "y_train = NYcrime5[NYcrime5.index < 243].counts\n",
    "y_test = NYcrime5[NYcrime5.index >= 243].counts   # test set is always the last part of your data"
   ]
  },
  {
   "cell_type": "code",
   "execution_count": 20,
   "metadata": {
    "scrolled": true
   },
   "outputs": [],
   "source": [
    "# (ar, d, ma) <- Order of the ARIMA model\n",
    "#                (usually small numbers)\n",
    "# ar - autoregressive part (0 to 3)\n",
    "#  d - differencing (0 or 1)\n",
    "# ma - moving average part (Moving Average of the residuals!!, 0 to 3)\n",
    "m = ARIMA(y_train, (3, 1, 1))\n",
    "m.initialize()\n",
    "r = m.fit()"
   ]
  },
  {
   "cell_type": "code",
   "execution_count": 21,
   "metadata": {},
   "outputs": [
    {
     "data": {
      "text/html": [
       "<table class=\"simpletable\">\n",
       "<caption>ARIMA Model Results</caption>\n",
       "<tr>\n",
       "  <th>Dep. Variable:</th>     <td>D.counts</td>     <th>  No. Observations:  </th>    <td>242</td>   \n",
       "</tr>\n",
       "<tr>\n",
       "  <th>Model:</th>          <td>ARIMA(3, 1, 1)</td>  <th>  Log Likelihood     </th> <td>-1495.212</td>\n",
       "</tr>\n",
       "<tr>\n",
       "  <th>Method:</th>             <td>css-mle</td>     <th>  S.D. of innovations</th>  <td>116.169</td> \n",
       "</tr>\n",
       "<tr>\n",
       "  <th>Date:</th>          <td>Wed, 29 Apr 2020</td> <th>  AIC                </th> <td>3002.423</td> \n",
       "</tr>\n",
       "<tr>\n",
       "  <th>Time:</th>              <td>18:07:23</td>     <th>  BIC                </th> <td>3023.357</td> \n",
       "</tr>\n",
       "<tr>\n",
       "  <th>Sample:</th>                <td>1</td>        <th>  HQIC               </th> <td>3010.856</td> \n",
       "</tr>\n",
       "<tr>\n",
       "  <th></th>                       <td> </td>        <th>                     </th>     <td> </td>    \n",
       "</tr>\n",
       "</table>\n",
       "<table class=\"simpletable\">\n",
       "<tr>\n",
       "         <td></td>           <th>coef</th>     <th>std err</th>      <th>z</th>      <th>P>|z|</th>  <th>[0.025</th>    <th>0.975]</th>  \n",
       "</tr>\n",
       "<tr>\n",
       "  <th>const</th>          <td>    0.3975</td> <td>    0.521</td> <td>    0.762</td> <td> 0.446</td> <td>   -0.625</td> <td>    1.420</td>\n",
       "</tr>\n",
       "<tr>\n",
       "  <th>ar.L1.D.counts</th> <td>    0.4016</td> <td>    0.077</td> <td>    5.249</td> <td> 0.000</td> <td>    0.252</td> <td>    0.552</td>\n",
       "</tr>\n",
       "<tr>\n",
       "  <th>ar.L2.D.counts</th> <td>   -0.1099</td> <td>    0.078</td> <td>   -1.408</td> <td> 0.159</td> <td>   -0.263</td> <td>    0.043</td>\n",
       "</tr>\n",
       "<tr>\n",
       "  <th>ar.L3.D.counts</th> <td>   -0.1463</td> <td>    0.076</td> <td>   -1.928</td> <td> 0.054</td> <td>   -0.295</td> <td>    0.002</td>\n",
       "</tr>\n",
       "<tr>\n",
       "  <th>ma.L1.D.counts</th> <td>   -0.9479</td> <td>    0.033</td> <td>  -29.045</td> <td> 0.000</td> <td>   -1.012</td> <td>   -0.884</td>\n",
       "</tr>\n",
       "</table>\n",
       "<table class=\"simpletable\">\n",
       "<caption>Roots</caption>\n",
       "<tr>\n",
       "    <td></td>   <th>            Real</th>  <th>         Imaginary</th> <th>         Modulus</th>  <th>        Frequency</th>\n",
       "</tr>\n",
       "<tr>\n",
       "  <th>AR.1</th> <td>           0.9757</td> <td>          -1.2558j</td> <td>           1.5902</td> <td>          -0.1449</td>\n",
       "</tr>\n",
       "<tr>\n",
       "  <th>AR.2</th> <td>           0.9757</td> <td>          +1.2558j</td> <td>           1.5902</td> <td>           0.1449</td>\n",
       "</tr>\n",
       "<tr>\n",
       "  <th>AR.3</th> <td>          -2.7025</td> <td>          -0.0000j</td> <td>           2.7025</td> <td>          -0.5000</td>\n",
       "</tr>\n",
       "<tr>\n",
       "  <th>MA.1</th> <td>           1.0549</td> <td>          +0.0000j</td> <td>           1.0549</td> <td>           0.0000</td>\n",
       "</tr>\n",
       "</table>"
      ],
      "text/plain": [
       "<class 'statsmodels.iolib.summary.Summary'>\n",
       "\"\"\"\n",
       "                             ARIMA Model Results                              \n",
       "==============================================================================\n",
       "Dep. Variable:               D.counts   No. Observations:                  242\n",
       "Model:                 ARIMA(3, 1, 1)   Log Likelihood               -1495.212\n",
       "Method:                       css-mle   S.D. of innovations            116.169\n",
       "Date:                Wed, 29 Apr 2020   AIC                           3002.423\n",
       "Time:                        18:07:23   BIC                           3023.357\n",
       "Sample:                             1   HQIC                          3010.856\n",
       "                                                                              \n",
       "==================================================================================\n",
       "                     coef    std err          z      P>|z|      [0.025      0.975]\n",
       "----------------------------------------------------------------------------------\n",
       "const              0.3975      0.521      0.762      0.446      -0.625       1.420\n",
       "ar.L1.D.counts     0.4016      0.077      5.249      0.000       0.252       0.552\n",
       "ar.L2.D.counts    -0.1099      0.078     -1.408      0.159      -0.263       0.043\n",
       "ar.L3.D.counts    -0.1463      0.076     -1.928      0.054      -0.295       0.002\n",
       "ma.L1.D.counts    -0.9479      0.033    -29.045      0.000      -1.012      -0.884\n",
       "                                    Roots                                    \n",
       "=============================================================================\n",
       "                  Real          Imaginary           Modulus         Frequency\n",
       "-----------------------------------------------------------------------------\n",
       "AR.1            0.9757           -1.2558j            1.5902           -0.1449\n",
       "AR.2            0.9757           +1.2558j            1.5902            0.1449\n",
       "AR.3           -2.7025           -0.0000j            2.7025           -0.5000\n",
       "MA.1            1.0549           +0.0000j            1.0549            0.0000\n",
       "-----------------------------------------------------------------------------\n",
       "\"\"\""
      ]
     },
     "execution_count": 21,
     "metadata": {},
     "output_type": "execute_result"
    }
   ],
   "source": [
    "r.summary()"
   ]
  },
  {
   "cell_type": "code",
   "execution_count": 22,
   "metadata": {},
   "outputs": [
    {
     "data": {
      "text/plain": [
       "3002.423473009235"
      ]
     },
     "execution_count": 22,
     "metadata": {},
     "output_type": "execute_result"
    }
   ],
   "source": [
    "r.aic"
   ]
  },
  {
   "cell_type": "code",
   "execution_count": 23,
   "metadata": {},
   "outputs": [
    {
     "data": {
      "text/plain": [
       "(3,)"
      ]
     },
     "execution_count": 23,
     "metadata": {},
     "output_type": "execute_result"
    }
   ],
   "source": [
    "# prediction for future periods (xtest)\n",
    "ypred, err, conf = r.forecast(steps=3) # predicted, error, confidence\n",
    "ypred.shape"
   ]
  },
  {
   "cell_type": "code",
   "execution_count": 24,
   "metadata": {},
   "outputs": [
    {
     "data": {
      "text/plain": [
       "const             0.397482\n",
       "ar.L1.D.counts    0.401603\n",
       "ar.L2.D.counts   -0.109912\n",
       "ar.L3.D.counts   -0.146317\n",
       "ma.L1.D.counts   -0.947945\n",
       "dtype: float64"
      ]
     },
     "execution_count": 24,
     "metadata": {},
     "output_type": "execute_result"
    }
   ],
   "source": [
    "r.params"
   ]
  },
  {
   "cell_type": "code",
   "execution_count": 25,
   "metadata": {},
   "outputs": [],
   "source": [
    "fc = []\n",
    "for i in range(31):\n",
    "    # reinialize the model\n",
    "    ytrain = data[:243 + i]\n",
    "    m = ARIMA(ytrain, (3, 1, 1))\n",
    "    m.initialize()\n",
    "    r = m.fit()\n",
    "    # do a forecast 3 periods ahead\n",
    "    ypred, err, conf = r.forecast(steps=31) # predicted, error, confidence\n",
    "    # collect the last forecasted point\n",
    "    fc.append(ypred[0])"
   ]
  },
  {
   "cell_type": "code",
   "execution_count": 26,
   "metadata": {},
   "outputs": [
    {
     "data": {
      "text/plain": [
       "[1331.1492452182522,\n",
       " 1333.9236718115567,\n",
       " 1297.3363231759126,\n",
       " 1354.8860167593436,\n",
       " 1341.393198176319,\n",
       " 1295.5807771451653,\n",
       " 1308.3544108462074,\n",
       " 1310.052759030291,\n",
       " 1310.6280256215632,\n",
       " 1309.7797418132157,\n",
       " 1337.3287870266677,\n",
       " 1311.5454176274359,\n",
       " 1264.5364861497453,\n",
       " 1240.9135637206366,\n",
       " 1265.3146051090523,\n",
       " 1322.1181244539068,\n",
       " 1322.6684393048233,\n",
       " 1312.430306772637,\n",
       " 1258.8744605515724,\n",
       " 1253.8170747160668,\n",
       " 1154.7500036199299,\n",
       " 1284.8317571882865,\n",
       " 1299.2107474340562,\n",
       " 1271.6763502240428,\n",
       " 1303.8430327467975,\n",
       " 1233.242567719784,\n",
       " 1170.6043492520569,\n",
       " 1193.5391026086047,\n",
       " 1216.7424330024187,\n",
       " 1223.047853537609,\n",
       " 1155.5532634072367]"
      ]
     },
     "execution_count": 26,
     "metadata": {},
     "output_type": "execute_result"
    }
   ],
   "source": [
    "fc"
   ]
  },
  {
   "cell_type": "code",
   "execution_count": 27,
   "metadata": {},
   "outputs": [
    {
     "data": {
      "text/plain": [
       "array([1155.55326341, 1202.28299457, 1225.18846634, 1210.83980501,\n",
       "       1194.62922718, 1185.74097904, 1186.10681672, 1189.59784327,\n",
       "       1192.07880151, 1192.2847415 , 1191.19273102, 1190.01062964,\n",
       "       1189.31363237, 1189.03182256, 1188.87409658, 1188.63874957,\n",
       "       1188.29046565, 1187.8859254 , 1187.48467394, 1187.10964205,\n",
       "       1186.75384692, 1186.4021505 , 1186.04559048, 1185.68348338,\n",
       "       1185.31906003, 1184.95514758, 1184.59261051, 1184.23093995,\n",
       "       1183.86937245, 1183.50752168, 1183.1454049 ])"
      ]
     },
     "execution_count": 27,
     "metadata": {},
     "output_type": "execute_result"
    }
   ],
   "source": [
    "ypred"
   ]
  },
  {
   "cell_type": "code",
   "execution_count": 28,
   "metadata": {},
   "outputs": [
    {
     "data": {
      "text/plain": [
       "(array([736194.]), array([736224.]))"
      ]
     },
     "execution_count": 28,
     "metadata": {},
     "output_type": "execute_result"
    },
    {
     "data": {
      "image/png": "[encoded data removed]",
      "text/plain": [
       "<Figure size 864x720 with 1 Axes>"
      ]
     },
     "metadata": {
      "needs_background": "light"
     },
     "output_type": "display_data"
    }
   ],
   "source": [
    "plt.figure(figsize=(12, 10))\n",
    "plt.plot(NYcrime5[NYcrime5.index < 243].Datetime, y_train, color='blue')\n",
    "plt.plot(NYcrime5[NYcrime5.index >= 243].Datetime, y_test, color='black')\n",
    "plt.plot(NYcrime5[NYcrime5.index >= 243].Datetime, ypred, color='red', marker='o')\n",
    "plt.xlim(NYcrime5[NYcrime5.index == 230].Datetime,NYcrime5[NYcrime5.index == 260].Datetime)"
   ]
  },
  {
   "cell_type": "code",
   "execution_count": 29,
   "metadata": {},
   "outputs": [
    {
     "data": {
      "text/plain": [
       "3358.7907609616022"
      ]
     },
     "execution_count": 29,
     "metadata": {},
     "output_type": "execute_result"
    }
   ],
   "source": [
    "r.aic"
   ]
  },
  {
   "cell_type": "code",
   "execution_count": 30,
   "metadata": {},
   "outputs": [
    {
     "data": {
      "text/plain": [
       "const            -0.362082\n",
       "ar.L1.D.counts    0.391311\n",
       "ar.L2.D.counts   -0.109952\n",
       "ar.L3.D.counts   -0.165997\n",
       "ma.L1.D.counts   -0.907110\n",
       "dtype: float64"
      ]
     },
     "execution_count": 30,
     "metadata": {},
     "output_type": "execute_result"
    }
   ],
   "source": [
    "r.params"
   ]
  },
  {
   "cell_type": "code",
   "execution_count": 31,
   "metadata": {},
   "outputs": [],
   "source": [
    "import numpy as np\n",
    "import pandas as pd\n",
    "from scipy.stats import norm\n",
    "import statsmodels.api as sm\n",
    "import matplotlib.pyplot as plt\n",
    "from datetime import datetime\n",
    "import requests\n",
    "from io import BytesIO\n"
   ]
  },
  {
   "cell_type": "code",
   "execution_count": 32,
   "metadata": {},
   "outputs": [
    {
     "data": {
      "text/plain": [
       "0      2077\n",
       "1      1181\n",
       "2      1072\n",
       "3      1086\n",
       "4      1040\n",
       "       ... \n",
       "269    1090\n",
       "270    1112\n",
       "271    1149\n",
       "272    1048\n",
       "273     777\n",
       "Name: counts, Length: 274, dtype: int64"
      ]
     },
     "execution_count": 32,
     "metadata": {},
     "output_type": "execute_result"
    }
   ],
   "source": [
    "data"
   ]
  },
  {
   "cell_type": "code",
   "execution_count": 33,
   "metadata": {},
   "outputs": [
    {
     "name": "stdout",
     "output_type": "stream",
     "text": [
      "                               SARIMAX Results                                \n",
      "==============================================================================\n",
      "Dep. Variable:                 counts   No. Observations:                  243\n",
      "Model:               SARIMAX(6, 1, 4)   Log Likelihood               -1480.296\n",
      "Date:                Wed, 29 Apr 2020   AIC                           2982.592\n",
      "Time:                        18:07:35   BIC                           3020.971\n",
      "Sample:                             0   HQIC                          2998.053\n",
      "                                - 243                                         \n",
      "Covariance Type:                  opg                                         \n",
      "==============================================================================\n",
      "                 coef    std err          z      P>|z|      [0.025      0.975]\n",
      "------------------------------------------------------------------------------\n",
      "ar.L1         -0.7737      0.131     -5.928      0.000      -1.030      -0.518\n",
      "ar.L2         -0.9259      0.087    -10.587      0.000      -1.097      -0.755\n",
      "ar.L3         -0.5212      0.136     -3.820      0.000      -0.789      -0.254\n",
      "ar.L4         -0.3031      0.123     -2.473      0.013      -0.543      -0.063\n",
      "ar.L5         -0.4306      0.068     -6.329      0.000      -0.564      -0.297\n",
      "ar.L6         -0.3828      0.064     -6.021      0.000      -0.507      -0.258\n",
      "ma.L1          0.1881      0.145      1.298      0.194      -0.096       0.472\n",
      "ma.L2          0.3026      0.116      2.617      0.009       0.076       0.529\n",
      "ma.L3         -0.3717      0.107     -3.473      0.001      -0.581      -0.162\n",
      "ma.L4         -0.6054      0.154     -3.925      0.000      -0.908      -0.303\n",
      "sigma2      1.053e+04    741.965     14.188      0.000    9072.449     1.2e+04\n",
      "===================================================================================\n",
      "Ljung-Box (Q):                       88.80   Jarque-Bera (JB):               688.99\n",
      "Prob(Q):                              0.00   Prob(JB):                         0.00\n",
      "Heteroskedasticity (H):               0.22   Skew:                            -0.95\n",
      "Prob(H) (two-sided):                  0.00   Kurtosis:                        11.05\n",
      "===================================================================================\n",
      "\n",
      "Warnings:\n",
      "[1] Covariance matrix calculated using the outer product of gradients (complex-step).\n"
     ]
    },
    {
     "name": "stderr",
     "output_type": "stream",
     "text": [
      "C:\\Users\\casti\\AppData\\Local\\Continuum\\anaconda3\\lib\\site-packages\\statsmodels\\base\\model.py:568: ConvergenceWarning: Maximum Likelihood optimization failed to converge. Check mle_retvals\n",
      "  \"Check mle_retvals\", ConvergenceWarning)\n"
     ]
    }
   ],
   "source": [
    "mod = sm.tsa.statespace.SARIMAX(y_train, order=(6,1,4), seasonal_order=(0, 0, 0, 0))\n",
    "res = mod.fit(disp=False)\n",
    "print(res.summary())"
   ]
  },
  {
   "cell_type": "code",
   "execution_count": 34,
   "metadata": {},
   "outputs": [
    {
     "data": {
      "text/html": [
       "<table class=\"simpletable\">\n",
       "<caption>SARIMAX Results</caption>\n",
       "<tr>\n",
       "  <th>Dep. Variable:</th>        <td>counts</td>      <th>  No. Observations:  </th>    <td>243</td>   \n",
       "</tr>\n",
       "<tr>\n",
       "  <th>Model:</th>           <td>SARIMAX(6, 1, 4)</td> <th>  Log Likelihood     </th> <td>-1480.296</td>\n",
       "</tr>\n",
       "<tr>\n",
       "  <th>Date:</th>            <td>Wed, 29 Apr 2020</td> <th>  AIC                </th> <td>2982.592</td> \n",
       "</tr>\n",
       "<tr>\n",
       "  <th>Time:</th>                <td>18:07:35</td>     <th>  BIC                </th> <td>3020.971</td> \n",
       "</tr>\n",
       "<tr>\n",
       "  <th>Sample:</th>                  <td>0</td>        <th>  HQIC               </th> <td>2998.053</td> \n",
       "</tr>\n",
       "<tr>\n",
       "  <th></th>                      <td> - 243</td>      <th>                     </th>     <td> </td>    \n",
       "</tr>\n",
       "<tr>\n",
       "  <th>Covariance Type:</th>        <td>opg</td>       <th>                     </th>     <td> </td>    \n",
       "</tr>\n",
       "</table>\n",
       "<table class=\"simpletable\">\n",
       "<tr>\n",
       "     <td></td>       <th>coef</th>     <th>std err</th>      <th>z</th>      <th>P>|z|</th>  <th>[0.025</th>    <th>0.975]</th>  \n",
       "</tr>\n",
       "<tr>\n",
       "  <th>ar.L1</th>  <td>   -0.7737</td> <td>    0.131</td> <td>   -5.928</td> <td> 0.000</td> <td>   -1.030</td> <td>   -0.518</td>\n",
       "</tr>\n",
       "<tr>\n",
       "  <th>ar.L2</th>  <td>   -0.9259</td> <td>    0.087</td> <td>  -10.587</td> <td> 0.000</td> <td>   -1.097</td> <td>   -0.755</td>\n",
       "</tr>\n",
       "<tr>\n",
       "  <th>ar.L3</th>  <td>   -0.5212</td> <td>    0.136</td> <td>   -3.820</td> <td> 0.000</td> <td>   -0.789</td> <td>   -0.254</td>\n",
       "</tr>\n",
       "<tr>\n",
       "  <th>ar.L4</th>  <td>   -0.3031</td> <td>    0.123</td> <td>   -2.473</td> <td> 0.013</td> <td>   -0.543</td> <td>   -0.063</td>\n",
       "</tr>\n",
       "<tr>\n",
       "  <th>ar.L5</th>  <td>   -0.4306</td> <td>    0.068</td> <td>   -6.329</td> <td> 0.000</td> <td>   -0.564</td> <td>   -0.297</td>\n",
       "</tr>\n",
       "<tr>\n",
       "  <th>ar.L6</th>  <td>   -0.3828</td> <td>    0.064</td> <td>   -6.021</td> <td> 0.000</td> <td>   -0.507</td> <td>   -0.258</td>\n",
       "</tr>\n",
       "<tr>\n",
       "  <th>ma.L1</th>  <td>    0.1881</td> <td>    0.145</td> <td>    1.298</td> <td> 0.194</td> <td>   -0.096</td> <td>    0.472</td>\n",
       "</tr>\n",
       "<tr>\n",
       "  <th>ma.L2</th>  <td>    0.3026</td> <td>    0.116</td> <td>    2.617</td> <td> 0.009</td> <td>    0.076</td> <td>    0.529</td>\n",
       "</tr>\n",
       "<tr>\n",
       "  <th>ma.L3</th>  <td>   -0.3717</td> <td>    0.107</td> <td>   -3.473</td> <td> 0.001</td> <td>   -0.581</td> <td>   -0.162</td>\n",
       "</tr>\n",
       "<tr>\n",
       "  <th>ma.L4</th>  <td>   -0.6054</td> <td>    0.154</td> <td>   -3.925</td> <td> 0.000</td> <td>   -0.908</td> <td>   -0.303</td>\n",
       "</tr>\n",
       "<tr>\n",
       "  <th>sigma2</th> <td> 1.053e+04</td> <td>  741.965</td> <td>   14.188</td> <td> 0.000</td> <td> 9072.449</td> <td>  1.2e+04</td>\n",
       "</tr>\n",
       "</table>\n",
       "<table class=\"simpletable\">\n",
       "<tr>\n",
       "  <th>Ljung-Box (Q):</th>          <td>88.80</td> <th>  Jarque-Bera (JB):  </th> <td>688.99</td>\n",
       "</tr>\n",
       "<tr>\n",
       "  <th>Prob(Q):</th>                <td>0.00</td>  <th>  Prob(JB):          </th>  <td>0.00</td> \n",
       "</tr>\n",
       "<tr>\n",
       "  <th>Heteroskedasticity (H):</th> <td>0.22</td>  <th>  Skew:              </th>  <td>-0.95</td>\n",
       "</tr>\n",
       "<tr>\n",
       "  <th>Prob(H) (two-sided):</th>    <td>0.00</td>  <th>  Kurtosis:          </th>  <td>11.05</td>\n",
       "</tr>\n",
       "</table><br/><br/>Warnings:<br/>[1] Covariance matrix calculated using the outer product of gradients (complex-step)."
      ],
      "text/plain": [
       "<class 'statsmodels.iolib.summary.Summary'>\n",
       "\"\"\"\n",
       "                               SARIMAX Results                                \n",
       "==============================================================================\n",
       "Dep. Variable:                 counts   No. Observations:                  243\n",
       "Model:               SARIMAX(6, 1, 4)   Log Likelihood               -1480.296\n",
       "Date:                Wed, 29 Apr 2020   AIC                           2982.592\n",
       "Time:                        18:07:35   BIC                           3020.971\n",
       "Sample:                             0   HQIC                          2998.053\n",
       "                                - 243                                         \n",
       "Covariance Type:                  opg                                         \n",
       "==============================================================================\n",
       "                 coef    std err          z      P>|z|      [0.025      0.975]\n",
       "------------------------------------------------------------------------------\n",
       "ar.L1         -0.7737      0.131     -5.928      0.000      -1.030      -0.518\n",
       "ar.L2         -0.9259      0.087    -10.587      0.000      -1.097      -0.755\n",
       "ar.L3         -0.5212      0.136     -3.820      0.000      -0.789      -0.254\n",
       "ar.L4         -0.3031      0.123     -2.473      0.013      -0.543      -0.063\n",
       "ar.L5         -0.4306      0.068     -6.329      0.000      -0.564      -0.297\n",
       "ar.L6         -0.3828      0.064     -6.021      0.000      -0.507      -0.258\n",
       "ma.L1          0.1881      0.145      1.298      0.194      -0.096       0.472\n",
       "ma.L2          0.3026      0.116      2.617      0.009       0.076       0.529\n",
       "ma.L3         -0.3717      0.107     -3.473      0.001      -0.581      -0.162\n",
       "ma.L4         -0.6054      0.154     -3.925      0.000      -0.908      -0.303\n",
       "sigma2      1.053e+04    741.965     14.188      0.000    9072.449     1.2e+04\n",
       "===================================================================================\n",
       "Ljung-Box (Q):                       88.80   Jarque-Bera (JB):               688.99\n",
       "Prob(Q):                              0.00   Prob(JB):                         0.00\n",
       "Heteroskedasticity (H):               0.22   Skew:                            -0.95\n",
       "Prob(H) (two-sided):                  0.00   Kurtosis:                        11.05\n",
       "===================================================================================\n",
       "\n",
       "Warnings:\n",
       "[1] Covariance matrix calculated using the outer product of gradients (complex-step).\n",
       "\"\"\""
      ]
     },
     "execution_count": 34,
     "metadata": {},
     "output_type": "execute_result"
    }
   ],
   "source": [
    "res.summary()"
   ]
  },
  {
   "cell_type": "code",
   "execution_count": 35,
   "metadata": {},
   "outputs": [
    {
     "data": {
      "text/plain": [
       "2982.592423796454"
      ]
     },
     "execution_count": 35,
     "metadata": {},
     "output_type": "execute_result"
    }
   ],
   "source": [
    "res.aic"
   ]
  },
  {
   "cell_type": "code",
   "execution_count": 36,
   "metadata": {},
   "outputs": [],
   "source": [
    "ypredsari, err, conf = res.forecast(3) # predicted, error, confidence"
   ]
  },
  {
   "cell_type": "code",
   "execution_count": 37,
   "metadata": {},
   "outputs": [
    {
     "data": {
      "text/plain": [
       "(1296.6904057311, 1305.4615008491535, 1398.5643955319808)"
      ]
     },
     "execution_count": 37,
     "metadata": {},
     "output_type": "execute_result"
    }
   ],
   "source": [
    "ypredsari, err, conf"
   ]
  },
  {
   "cell_type": "code",
   "execution_count": 38,
   "metadata": {},
   "outputs": [
    {
     "data": {
      "text/plain": [
       "ar.L1        -0.773723\n",
       "ar.L2        -0.925941\n",
       "ar.L3        -0.521151\n",
       "ar.L4        -0.303122\n",
       "ar.L5        -0.430596\n",
       "ar.L6        -0.382781\n",
       "ma.L1         0.188097\n",
       "ma.L2         0.302603\n",
       "ma.L3        -0.371670\n",
       "ma.L4        -0.605394\n",
       "sigma2    10526.674300\n",
       "dtype: float64"
      ]
     },
     "execution_count": 38,
     "metadata": {},
     "output_type": "execute_result"
    }
   ],
   "source": [
    "res.params"
   ]
  },
  {
   "cell_type": "code",
   "execution_count": 45,
   "metadata": {},
   "outputs": [
    {
     "name": "stderr",
     "output_type": "stream",
     "text": [
      "C:\\Users\\casti\\AppData\\Local\\Continuum\\anaconda3\\lib\\site-packages\\statsmodels\\base\\model.py:568: ConvergenceWarning: Maximum Likelihood optimization failed to converge. Check mle_retvals\n",
      "  \"Check mle_retvals\", ConvergenceWarning)\n"
     ]
    },
    {
     "name": "stdout",
     "output_type": "stream",
     "text": [
      "                               SARIMAX Results                                \n",
      "==============================================================================\n",
      "Dep. Variable:                 counts   No. Observations:                  243\n",
      "Model:               SARIMAX(6, 1, 4)   Log Likelihood               -1480.296\n",
      "Date:                Wed, 29 Apr 2020   AIC                           2982.592\n",
      "Time:                        18:11:29   BIC                           3020.971\n",
      "Sample:                             0   HQIC                          2998.053\n",
      "                                - 243                                         \n",
      "Covariance Type:                  opg                                         \n",
      "==============================================================================\n",
      "                 coef    std err          z      P>|z|      [0.025      0.975]\n",
      "------------------------------------------------------------------------------\n",
      "ar.L1         -0.7737      0.131     -5.928      0.000      -1.030      -0.518\n",
      "ar.L2         -0.9259      0.087    -10.587      0.000      -1.097      -0.755\n",
      "ar.L3         -0.5212      0.136     -3.820      0.000      -0.789      -0.254\n",
      "ar.L4         -0.3031      0.123     -2.473      0.013      -0.543      -0.063\n",
      "ar.L5         -0.4306      0.068     -6.329      0.000      -0.564      -0.297\n",
      "ar.L6         -0.3828      0.064     -6.021      0.000      -0.507      -0.258\n",
      "ma.L1          0.1881      0.145      1.298      0.194      -0.096       0.472\n",
      "ma.L2          0.3026      0.116      2.617      0.009       0.076       0.529\n",
      "ma.L3         -0.3717      0.107     -3.473      0.001      -0.581      -0.162\n",
      "ma.L4         -0.6054      0.154     -3.925      0.000      -0.908      -0.303\n",
      "sigma2      1.053e+04    741.965     14.188      0.000    9072.449     1.2e+04\n",
      "===================================================================================\n",
      "Ljung-Box (Q):                       88.80   Jarque-Bera (JB):               688.99\n",
      "Prob(Q):                              0.00   Prob(JB):                         0.00\n",
      "Heteroskedasticity (H):               0.22   Skew:                            -0.95\n",
      "Prob(H) (two-sided):                  0.00   Kurtosis:                        11.05\n",
      "===================================================================================\n",
      "\n",
      "Warnings:\n",
      "[1] Covariance matrix calculated using the outer product of gradients (complex-step).\n"
     ]
    },
    {
     "name": "stderr",
     "output_type": "stream",
     "text": [
      "C:\\Users\\casti\\AppData\\Local\\Continuum\\anaconda3\\lib\\site-packages\\statsmodels\\base\\model.py:568: ConvergenceWarning: Maximum Likelihood optimization failed to converge. Check mle_retvals\n",
      "  \"Check mle_retvals\", ConvergenceWarning)\n"
     ]
    },
    {
     "name": "stdout",
     "output_type": "stream",
     "text": [
      "                               SARIMAX Results                                \n",
      "==============================================================================\n",
      "Dep. Variable:                 counts   No. Observations:                  244\n",
      "Model:               SARIMAX(6, 1, 4)   Log Likelihood               -1486.848\n",
      "Date:                Wed, 29 Apr 2020   AIC                           2995.697\n",
      "Time:                        18:11:30   BIC                           3034.120\n",
      "Sample:                             0   HQIC                          3011.173\n",
      "                                - 244                                         \n",
      "Covariance Type:                  opg                                         \n",
      "==============================================================================\n",
      "                 coef    std err          z      P>|z|      [0.025      0.975]\n",
      "------------------------------------------------------------------------------\n",
      "ar.L1         -0.8807      0.099     -8.892      0.000      -1.075      -0.687\n",
      "ar.L2         -0.8755      0.087    -10.109      0.000      -1.045      -0.706\n",
      "ar.L3         -0.6104      0.119     -5.112      0.000      -0.844      -0.376\n",
      "ar.L4         -0.1321      0.126     -1.048      0.295      -0.379       0.115\n",
      "ar.L5         -0.4268      0.070     -6.078      0.000      -0.564      -0.289\n",
      "ar.L6         -0.3025      0.067     -4.540      0.000      -0.433      -0.172\n",
      "ma.L1          0.3235      0.110      2.928      0.003       0.107       0.540\n",
      "ma.L2          0.1642      0.097      1.685      0.092      -0.027       0.355\n",
      "ma.L3         -0.3124      0.083     -3.773      0.000      -0.475      -0.150\n",
      "ma.L4         -0.8057      0.118     -6.834      0.000      -1.037      -0.575\n",
      "sigma2      1.048e+04    917.460     11.424      0.000    8683.207    1.23e+04\n",
      "===================================================================================\n",
      "Ljung-Box (Q):                       85.96   Jarque-Bera (JB):               662.61\n",
      "Prob(Q):                              0.00   Prob(JB):                         0.00\n",
      "Heteroskedasticity (H):               0.19   Skew:                            -1.00\n",
      "Prob(H) (two-sided):                  0.00   Kurtosis:                        10.84\n",
      "===================================================================================\n",
      "\n",
      "Warnings:\n",
      "[1] Covariance matrix calculated using the outer product of gradients (complex-step).\n"
     ]
    },
    {
     "name": "stderr",
     "output_type": "stream",
     "text": [
      "C:\\Users\\casti\\AppData\\Local\\Continuum\\anaconda3\\lib\\site-packages\\statsmodels\\base\\model.py:568: ConvergenceWarning: Maximum Likelihood optimization failed to converge. Check mle_retvals\n",
      "  \"Check mle_retvals\", ConvergenceWarning)\n"
     ]
    },
    {
     "name": "stdout",
     "output_type": "stream",
     "text": [
      "                               SARIMAX Results                                \n",
      "==============================================================================\n",
      "Dep. Variable:                 counts   No. Observations:                  245\n",
      "Model:               SARIMAX(6, 1, 4)   Log Likelihood               -1492.235\n",
      "Date:                Wed, 29 Apr 2020   AIC                           3006.469\n",
      "Time:                        18:11:32   BIC                           3044.938\n",
      "Sample:                             0   HQIC                          3021.962\n",
      "                                - 245                                         \n",
      "Covariance Type:                  opg                                         \n",
      "==============================================================================\n",
      "                 coef    std err          z      P>|z|      [0.025      0.975]\n",
      "------------------------------------------------------------------------------\n",
      "ar.L1         -0.8418      0.114     -7.382      0.000      -1.065      -0.618\n",
      "ar.L2         -0.8985      0.088    -10.212      0.000      -1.071      -0.726\n",
      "ar.L3         -0.5733      0.126     -4.544      0.000      -0.821      -0.326\n",
      "ar.L4         -0.2094      0.128     -1.638      0.101      -0.460       0.041\n",
      "ar.L5         -0.4232      0.071     -5.999      0.000      -0.561      -0.285\n",
      "ar.L6         -0.3420      0.068     -5.002      0.000      -0.476      -0.208\n",
      "ma.L1          0.2772      0.127      2.178      0.029       0.028       0.527\n",
      "ma.L2          0.2418      0.102      2.367      0.018       0.042       0.442\n",
      "ma.L3         -0.3243      0.093     -3.469      0.001      -0.507      -0.141\n",
      "ma.L4         -0.7081      0.132     -5.347      0.000      -0.968      -0.449\n",
      "sigma2      1.048e+04    825.457     12.696      0.000    8862.067    1.21e+04\n",
      "===================================================================================\n",
      "Ljung-Box (Q):                       84.53   Jarque-Bera (JB):               735.39\n",
      "Prob(Q):                              0.00   Prob(JB):                         0.00\n",
      "Heteroskedasticity (H):               0.20   Skew:                            -0.99\n",
      "Prob(H) (two-sided):                  0.00   Kurtosis:                        11.27\n",
      "===================================================================================\n",
      "\n",
      "Warnings:\n",
      "[1] Covariance matrix calculated using the outer product of gradients (complex-step).\n"
     ]
    },
    {
     "name": "stderr",
     "output_type": "stream",
     "text": [
      "C:\\Users\\casti\\AppData\\Local\\Continuum\\anaconda3\\lib\\site-packages\\statsmodels\\base\\model.py:568: ConvergenceWarning: Maximum Likelihood optimization failed to converge. Check mle_retvals\n",
      "  \"Check mle_retvals\", ConvergenceWarning)\n"
     ]
    },
    {
     "name": "stdout",
     "output_type": "stream",
     "text": [
      "                               SARIMAX Results                                \n",
      "==============================================================================\n",
      "Dep. Variable:                 counts   No. Observations:                  246\n",
      "Model:               SARIMAX(6, 1, 4)   Log Likelihood               -1497.574\n",
      "Date:                Wed, 29 Apr 2020   AIC                           3017.148\n",
      "Time:                        18:11:34   BIC                           3055.662\n",
      "Sample:                             0   HQIC                          3032.657\n",
      "                                - 246                                         \n",
      "Covariance Type:                  opg                                         \n",
      "==============================================================================\n",
      "                 coef    std err          z      P>|z|      [0.025      0.975]\n",
      "------------------------------------------------------------------------------\n",
      "ar.L1         -0.8246      0.108     -7.634      0.000      -1.036      -0.613\n",
      "ar.L2         -0.8795      0.088    -10.008      0.000      -1.052      -0.707\n",
      "ar.L3         -0.5236      0.123     -4.256      0.000      -0.765      -0.282\n",
      "ar.L4         -0.1886      0.135     -1.400      0.161      -0.453       0.075\n",
      "ar.L5         -0.4024      0.072     -5.555      0.000      -0.544      -0.260\n",
      "ar.L6         -0.3448      0.068     -5.087      0.000      -0.478      -0.212\n",
      "ma.L1          0.2511      0.121      2.078      0.038       0.014       0.488\n",
      "ma.L2          0.2273      0.109      2.092      0.036       0.014       0.440\n",
      "ma.L3         -0.3526      0.089     -3.973      0.000      -0.527      -0.179\n",
      "ma.L4         -0.7191      0.132     -5.466      0.000      -0.977      -0.461\n",
      "sigma2      1.045e+04    933.385     11.192      0.000    8616.955    1.23e+04\n",
      "===================================================================================\n",
      "Ljung-Box (Q):                       88.08   Jarque-Bera (JB):               706.26\n",
      "Prob(Q):                              0.00   Prob(JB):                         0.00\n",
      "Heteroskedasticity (H):               0.21   Skew:                            -0.98\n",
      "Prob(H) (two-sided):                  0.00   Kurtosis:                        11.09\n",
      "===================================================================================\n",
      "\n",
      "Warnings:\n",
      "[1] Covariance matrix calculated using the outer product of gradients (complex-step).\n"
     ]
    },
    {
     "name": "stderr",
     "output_type": "stream",
     "text": [
      "C:\\Users\\casti\\AppData\\Local\\Continuum\\anaconda3\\lib\\site-packages\\statsmodels\\base\\model.py:568: ConvergenceWarning: Maximum Likelihood optimization failed to converge. Check mle_retvals\n",
      "  \"Check mle_retvals\", ConvergenceWarning)\n"
     ]
    },
    {
     "name": "stdout",
     "output_type": "stream",
     "text": [
      "                               SARIMAX Results                                \n",
      "==============================================================================\n",
      "Dep. Variable:                 counts   No. Observations:                  247\n",
      "Model:               SARIMAX(6, 1, 4)   Log Likelihood               -1503.442\n",
      "Date:                Wed, 29 Apr 2020   AIC                           3028.884\n",
      "Time:                        18:11:37   BIC                           3067.443\n",
      "Sample:                             0   HQIC                          3044.410\n",
      "                                - 247                                         \n",
      "Covariance Type:                  opg                                         \n",
      "==============================================================================\n",
      "                 coef    std err          z      P>|z|      [0.025      0.975]\n",
      "------------------------------------------------------------------------------\n",
      "ar.L1         -0.8591      0.114     -7.545      0.000      -1.082      -0.636\n",
      "ar.L2         -0.9004      0.086    -10.429      0.000      -1.070      -0.731\n",
      "ar.L3         -0.5972      0.124     -4.799      0.000      -0.841      -0.353\n",
      "ar.L4         -0.1950      0.129     -1.511      0.131      -0.448       0.058\n",
      "ar.L5         -0.4304      0.070     -6.189      0.000      -0.567      -0.294\n",
      "ar.L6         -0.3318      0.068     -4.898      0.000      -0.465      -0.199\n",
      "ma.L1          0.2889      0.128      2.255      0.024       0.038       0.540\n",
      "ma.L2          0.2230      0.108      2.065      0.039       0.011       0.435\n",
      "ma.L3         -0.3231      0.093     -3.459      0.001      -0.506      -0.140\n",
      "ma.L4         -0.7363      0.135     -5.453      0.000      -1.001      -0.472\n",
      "sigma2       1.04e+04    916.794     11.339      0.000    8598.843    1.22e+04\n",
      "===================================================================================\n",
      "Ljung-Box (Q):                       85.93   Jarque-Bera (JB):               720.69\n",
      "Prob(Q):                              0.00   Prob(JB):                         0.00\n",
      "Heteroskedasticity (H):               0.20   Skew:                            -0.99\n",
      "Prob(H) (two-sided):                  0.00   Kurtosis:                        11.15\n",
      "===================================================================================\n",
      "\n",
      "Warnings:\n",
      "[1] Covariance matrix calculated using the outer product of gradients (complex-step).\n"
     ]
    },
    {
     "name": "stderr",
     "output_type": "stream",
     "text": [
      "C:\\Users\\casti\\AppData\\Local\\Continuum\\anaconda3\\lib\\site-packages\\statsmodels\\base\\model.py:568: ConvergenceWarning: Maximum Likelihood optimization failed to converge. Check mle_retvals\n",
      "  \"Check mle_retvals\", ConvergenceWarning)\n"
     ]
    },
    {
     "name": "stdout",
     "output_type": "stream",
     "text": [
      "                               SARIMAX Results                                \n",
      "==============================================================================\n",
      "Dep. Variable:                 counts   No. Observations:                  248\n",
      "Model:               SARIMAX(6, 1, 4)   Log Likelihood               -1509.435\n",
      "Date:                Wed, 29 Apr 2020   AIC                           3040.871\n",
      "Time:                        18:11:38   BIC                           3079.474\n",
      "Sample:                             0   HQIC                          3056.413\n",
      "                                - 248                                         \n",
      "Covariance Type:                  opg                                         \n",
      "==============================================================================\n",
      "                 coef    std err          z      P>|z|      [0.025      0.975]\n",
      "------------------------------------------------------------------------------\n",
      "ar.L1         -0.8577      0.109     -7.842      0.000      -1.072      -0.643\n",
      "ar.L2         -0.8870      0.086    -10.320      0.000      -1.055      -0.719\n",
      "ar.L3         -0.5849      0.124     -4.716      0.000      -0.828      -0.342\n",
      "ar.L4         -0.1539      0.131     -1.179      0.239      -0.410       0.102\n",
      "ar.L5         -0.4157      0.070     -5.897      0.000      -0.554      -0.278\n",
      "ar.L6         -0.3041      0.068     -4.463      0.000      -0.438      -0.171\n",
      "ma.L1          0.2983      0.122      2.451      0.014       0.060       0.537\n",
      "ma.L2          0.1928      0.101      1.906      0.057      -0.005       0.391\n",
      "ma.L3         -0.3230      0.089     -3.623      0.000      -0.498      -0.148\n",
      "ma.L4         -0.7682      0.127     -6.030      0.000      -1.018      -0.519\n",
      "sigma2      1.037e+04    876.828     11.827      0.000    8652.034    1.21e+04\n",
      "===================================================================================\n",
      "Ljung-Box (Q):                       86.71   Jarque-Bera (JB):               729.73\n",
      "Prob(Q):                              0.00   Prob(JB):                         0.00\n",
      "Heteroskedasticity (H):               0.20   Skew:                            -1.01\n",
      "Prob(H) (two-sided):                  0.00   Kurtosis:                        11.18\n",
      "===================================================================================\n",
      "\n",
      "Warnings:\n",
      "[1] Covariance matrix calculated using the outer product of gradients (complex-step).\n"
     ]
    },
    {
     "name": "stderr",
     "output_type": "stream",
     "text": [
      "C:\\Users\\casti\\AppData\\Local\\Continuum\\anaconda3\\lib\\site-packages\\statsmodels\\base\\model.py:568: ConvergenceWarning: Maximum Likelihood optimization failed to converge. Check mle_retvals\n",
      "  \"Check mle_retvals\", ConvergenceWarning)\n"
     ]
    },
    {
     "name": "stdout",
     "output_type": "stream",
     "text": [
      "                               SARIMAX Results                                \n",
      "==============================================================================\n",
      "Dep. Variable:                 counts   No. Observations:                  249\n",
      "Model:               SARIMAX(6, 1, 4)   Log Likelihood               -1515.017\n",
      "Date:                Wed, 29 Apr 2020   AIC                           3052.035\n",
      "Time:                        18:11:40   BIC                           3090.683\n",
      "Sample:                             0   HQIC                          3067.593\n",
      "                                - 249                                         \n",
      "Covariance Type:                  opg                                         \n",
      "==============================================================================\n",
      "                 coef    std err          z      P>|z|      [0.025      0.975]\n",
      "------------------------------------------------------------------------------\n",
      "ar.L1         -0.8488      0.111     -7.624      0.000      -1.067      -0.631\n",
      "ar.L2         -0.9048      0.085    -10.622      0.000      -1.072      -0.738\n",
      "ar.L3         -0.5891      0.125     -4.720      0.000      -0.834      -0.344\n",
      "ar.L4         -0.1888      0.129     -1.461      0.144      -0.442       0.065\n",
      "ar.L5         -0.4238      0.069     -6.112      0.000      -0.560      -0.288\n",
      "ar.L6         -0.3139      0.068     -4.620      0.000      -0.447      -0.181\n",
      "ma.L1          0.2914      0.124      2.354      0.019       0.049       0.534\n",
      "ma.L2          0.2170      0.101      2.158      0.031       0.020       0.414\n",
      "ma.L3         -0.3191      0.091     -3.502      0.000      -0.498      -0.141\n",
      "ma.L4         -0.7405      0.129     -5.752      0.000      -0.993      -0.488\n",
      "sigma2      1.033e+04    835.662     12.360      0.000    8690.943     1.2e+04\n",
      "===================================================================================\n",
      "Ljung-Box (Q):                       85.80   Jarque-Bera (JB):               737.09\n",
      "Prob(Q):                              0.00   Prob(JB):                         0.00\n",
      "Heteroskedasticity (H):               0.21   Skew:                            -0.99\n",
      "Prob(H) (two-sided):                  0.00   Kurtosis:                        11.21\n",
      "===================================================================================\n",
      "\n",
      "Warnings:\n",
      "[1] Covariance matrix calculated using the outer product of gradients (complex-step).\n"
     ]
    },
    {
     "name": "stderr",
     "output_type": "stream",
     "text": [
      "C:\\Users\\casti\\AppData\\Local\\Continuum\\anaconda3\\lib\\site-packages\\statsmodels\\base\\model.py:568: ConvergenceWarning: Maximum Likelihood optimization failed to converge. Check mle_retvals\n",
      "  \"Check mle_retvals\", ConvergenceWarning)\n"
     ]
    },
    {
     "name": "stdout",
     "output_type": "stream",
     "text": [
      "                               SARIMAX Results                                \n",
      "==============================================================================\n",
      "Dep. Variable:                 counts   No. Observations:                  250\n",
      "Model:               SARIMAX(6, 1, 4)   Log Likelihood               -1521.318\n",
      "Date:                Wed, 29 Apr 2020   AIC                           3064.637\n",
      "Time:                        18:11:42   BIC                           3103.329\n",
      "Sample:                             0   HQIC                          3080.211\n",
      "                                - 250                                         \n",
      "Covariance Type:                  opg                                         \n",
      "==============================================================================\n",
      "                 coef    std err          z      P>|z|      [0.025      0.975]\n",
      "------------------------------------------------------------------------------\n",
      "ar.L1         -0.8646      0.102     -8.443      0.000      -1.065      -0.664\n",
      "ar.L2         -0.8709      0.085    -10.197      0.000      -1.038      -0.704\n",
      "ar.L3         -0.5912      0.120     -4.943      0.000      -0.826      -0.357\n",
      "ar.L4         -0.1297      0.127     -1.022      0.307      -0.378       0.119\n",
      "ar.L5         -0.4211      0.069     -6.115      0.000      -0.556      -0.286\n",
      "ar.L6         -0.3002      0.066     -4.567      0.000      -0.429      -0.171\n",
      "ma.L1          0.3162      0.114      2.781      0.005       0.093       0.539\n",
      "ma.L2          0.1723      0.091      1.892      0.058      -0.006       0.351\n",
      "ma.L3         -0.3150      0.085     -3.728      0.000      -0.481      -0.149\n",
      "ma.L4         -0.7901      0.116     -6.790      0.000      -1.018      -0.562\n",
      "sigma2      1.028e+04    802.081     12.822      0.000    8712.276    1.19e+04\n",
      "===================================================================================\n",
      "Ljung-Box (Q):                       86.73   Jarque-Bera (JB):               712.96\n",
      "Prob(Q):                              0.00   Prob(JB):                         0.00\n",
      "Heteroskedasticity (H):               0.20   Skew:                            -0.99\n",
      "Prob(H) (two-sided):                  0.00   Kurtosis:                        11.05\n",
      "===================================================================================\n",
      "\n",
      "Warnings:\n",
      "[1] Covariance matrix calculated using the outer product of gradients (complex-step).\n"
     ]
    },
    {
     "name": "stderr",
     "output_type": "stream",
     "text": [
      "C:\\Users\\casti\\AppData\\Local\\Continuum\\anaconda3\\lib\\site-packages\\statsmodels\\base\\model.py:568: ConvergenceWarning: Maximum Likelihood optimization failed to converge. Check mle_retvals\n",
      "  \"Check mle_retvals\", ConvergenceWarning)\n"
     ]
    },
    {
     "name": "stdout",
     "output_type": "stream",
     "text": [
      "                               SARIMAX Results                                \n",
      "==============================================================================\n",
      "Dep. Variable:                 counts   No. Observations:                  251\n",
      "Model:               SARIMAX(6, 1, 4)   Log Likelihood               -1526.442\n",
      "Date:                Wed, 29 Apr 2020   AIC                           3074.883\n",
      "Time:                        18:11:44   BIC                           3113.619\n",
      "Sample:                             0   HQIC                          3090.473\n",
      "                                - 251                                         \n",
      "Covariance Type:                  opg                                         \n",
      "==============================================================================\n",
      "                 coef    std err          z      P>|z|      [0.025      0.975]\n",
      "------------------------------------------------------------------------------\n",
      "ar.L1         -0.8643      0.112     -7.747      0.000      -1.083      -0.646\n",
      "ar.L2         -0.9020      0.085    -10.653      0.000      -1.068      -0.736\n",
      "ar.L3         -0.6076      0.120     -5.069      0.000      -0.843      -0.373\n",
      "ar.L4         -0.2058      0.129     -1.591      0.112      -0.459       0.048\n",
      "ar.L5         -0.4442      0.067     -6.631      0.000      -0.575      -0.313\n",
      "ar.L6         -0.3447      0.064     -5.391      0.000      -0.470      -0.219\n",
      "ma.L1          0.2775      0.126      2.194      0.028       0.030       0.525\n",
      "ma.L2          0.2143      0.106      2.018      0.044       0.006       0.422\n",
      "ma.L3         -0.3337      0.092     -3.646      0.000      -0.513      -0.154\n",
      "ma.L4         -0.7410      0.134     -5.547      0.000      -1.003      -0.479\n",
      "sigma2      1.025e+04    874.749     11.723      0.000    8540.138     1.2e+04\n",
      "===================================================================================\n",
      "Ljung-Box (Q):                       89.62   Jarque-Bera (JB):               654.12\n",
      "Prob(Q):                              0.00   Prob(JB):                         0.00\n",
      "Heteroskedasticity (H):               0.20   Skew:                            -0.91\n",
      "Prob(H) (two-sided):                  0.00   Kurtosis:                        10.71\n",
      "===================================================================================\n",
      "\n",
      "Warnings:\n",
      "[1] Covariance matrix calculated using the outer product of gradients (complex-step).\n"
     ]
    },
    {
     "name": "stderr",
     "output_type": "stream",
     "text": [
      "C:\\Users\\casti\\AppData\\Local\\Continuum\\anaconda3\\lib\\site-packages\\statsmodels\\base\\model.py:568: ConvergenceWarning: Maximum Likelihood optimization failed to converge. Check mle_retvals\n",
      "  \"Check mle_retvals\", ConvergenceWarning)\n"
     ]
    },
    {
     "name": "stdout",
     "output_type": "stream",
     "text": [
      "                               SARIMAX Results                                \n",
      "==============================================================================\n",
      "Dep. Variable:                 counts   No. Observations:                  252\n",
      "Model:               SARIMAX(6, 1, 4)   Log Likelihood               -1532.066\n",
      "Date:                Wed, 29 Apr 2020   AIC                           3086.131\n",
      "Time:                        18:11:46   BIC                           3124.911\n",
      "Sample:                             0   HQIC                          3101.737\n",
      "                                - 252                                         \n",
      "Covariance Type:                  opg                                         \n",
      "==============================================================================\n",
      "                 coef    std err          z      P>|z|      [0.025      0.975]\n",
      "------------------------------------------------------------------------------\n",
      "ar.L1         -0.8419      0.143     -5.882      0.000      -1.123      -0.561\n",
      "ar.L2         -0.9177      0.084    -10.975      0.000      -1.082      -0.754\n",
      "ar.L3         -0.5970      0.142     -4.196      0.000      -0.876      -0.318\n",
      "ar.L4         -0.2107      0.129     -1.630      0.103      -0.464       0.043\n",
      "ar.L5         -0.4314      0.068     -6.366      0.000      -0.564      -0.299\n",
      "ar.L6         -0.3156      0.068     -4.623      0.000      -0.449      -0.182\n",
      "ma.L1          0.2627      0.158      1.661      0.097      -0.047       0.573\n",
      "ma.L2          0.2342      0.115      2.038      0.042       0.009       0.459\n",
      "ma.L3         -0.3407      0.111     -3.075      0.002      -0.558      -0.124\n",
      "ma.L4         -0.7085      0.159     -4.457      0.000      -1.020      -0.397\n",
      "sigma2       1.02e+04    772.793     13.196      0.000    8683.259    1.17e+04\n",
      "===================================================================================\n",
      "Ljung-Box (Q):                       88.37   Jarque-Bera (JB):               774.35\n",
      "Prob(Q):                              0.00   Prob(JB):                         0.00\n",
      "Heteroskedasticity (H):               0.20   Skew:                            -1.00\n",
      "Prob(H) (two-sided):                  0.00   Kurtosis:                        11.37\n",
      "===================================================================================\n",
      "\n",
      "Warnings:\n",
      "[1] Covariance matrix calculated using the outer product of gradients (complex-step).\n"
     ]
    },
    {
     "name": "stderr",
     "output_type": "stream",
     "text": [
      "C:\\Users\\casti\\AppData\\Local\\Continuum\\anaconda3\\lib\\site-packages\\statsmodels\\base\\model.py:568: ConvergenceWarning: Maximum Likelihood optimization failed to converge. Check mle_retvals\n",
      "  \"Check mle_retvals\", ConvergenceWarning)\n"
     ]
    },
    {
     "name": "stdout",
     "output_type": "stream",
     "text": [
      "                               SARIMAX Results                                \n",
      "==============================================================================\n",
      "Dep. Variable:                 counts   No. Observations:                  253\n",
      "Model:               SARIMAX(6, 1, 4)   Log Likelihood               -1538.021\n",
      "Date:                Wed, 29 Apr 2020   AIC                           3098.042\n",
      "Time:                        18:11:48   BIC                           3136.866\n",
      "Sample:                             0   HQIC                          3113.664\n",
      "                                - 253                                         \n",
      "Covariance Type:                  opg                                         \n",
      "==============================================================================\n",
      "                 coef    std err          z      P>|z|      [0.025      0.975]\n",
      "------------------------------------------------------------------------------\n",
      "ar.L1         -0.8777      0.103     -8.484      0.000      -1.080      -0.675\n",
      "ar.L2         -0.8967      0.084    -10.732      0.000      -1.060      -0.733\n",
      "ar.L3         -0.6237      0.118     -5.272      0.000      -0.856      -0.392\n",
      "ar.L4         -0.1702      0.123     -1.381      0.167      -0.412       0.071\n",
      "ar.L5         -0.4380      0.067     -6.549      0.000      -0.569      -0.307\n",
      "ar.L6         -0.3154      0.064     -4.898      0.000      -0.442      -0.189\n",
      "ma.L1          0.3210      0.116      2.758      0.006       0.093       0.549\n",
      "ma.L2          0.1983      0.093      2.138      0.033       0.017       0.380\n",
      "ma.L3         -0.3004      0.087     -3.449      0.001      -0.471      -0.130\n",
      "ma.L4         -0.7681      0.119     -6.477      0.000      -1.001      -0.536\n",
      "sigma2      1.017e+04    792.626     12.833      0.000    8618.503    1.17e+04\n",
      "===================================================================================\n",
      "Ljung-Box (Q):                       87.15   Jarque-Bera (JB):               728.70\n",
      "Prob(Q):                              0.00   Prob(JB):                         0.00\n",
      "Heteroskedasticity (H):               0.20   Skew:                            -0.97\n",
      "Prob(H) (two-sided):                  0.00   Kurtosis:                        11.10\n",
      "===================================================================================\n",
      "\n",
      "Warnings:\n",
      "[1] Covariance matrix calculated using the outer product of gradients (complex-step).\n"
     ]
    },
    {
     "name": "stderr",
     "output_type": "stream",
     "text": [
      "C:\\Users\\casti\\AppData\\Local\\Continuum\\anaconda3\\lib\\site-packages\\statsmodels\\base\\model.py:568: ConvergenceWarning: Maximum Likelihood optimization failed to converge. Check mle_retvals\n",
      "  \"Check mle_retvals\", ConvergenceWarning)\n"
     ]
    },
    {
     "name": "stdout",
     "output_type": "stream",
     "text": [
      "                               SARIMAX Results                                \n",
      "==============================================================================\n",
      "Dep. Variable:                 counts   No. Observations:                  254\n",
      "Model:               SARIMAX(6, 1, 4)   Log Likelihood               -1543.622\n",
      "Date:                Wed, 29 Apr 2020   AIC                           3109.244\n",
      "Time:                        18:11:50   BIC                           3148.112\n",
      "Sample:                             0   HQIC                          3124.882\n",
      "                                - 254                                         \n",
      "Covariance Type:                  opg                                         \n",
      "==============================================================================\n",
      "                 coef    std err          z      P>|z|      [0.025      0.975]\n",
      "------------------------------------------------------------------------------\n",
      "ar.L1         -0.8722      0.100     -8.687      0.000      -1.069      -0.675\n",
      "ar.L2         -0.8927      0.083    -10.711      0.000      -1.056      -0.729\n",
      "ar.L3         -0.6174      0.117     -5.286      0.000      -0.846      -0.388\n",
      "ar.L4         -0.1685      0.122     -1.379      0.168      -0.408       0.071\n",
      "ar.L5         -0.4378      0.067     -6.555      0.000      -0.569      -0.307\n",
      "ar.L6         -0.3147      0.065     -4.863      0.000      -0.442      -0.188\n",
      "ma.L1          0.3214      0.113      2.856      0.004       0.101       0.542\n",
      "ma.L2          0.1955      0.093      2.105      0.035       0.013       0.378\n",
      "ma.L3         -0.3036      0.084     -3.595      0.000      -0.469      -0.138\n",
      "ma.L4         -0.7721      0.117     -6.621      0.000      -1.001      -0.544\n",
      "sigma2      1.013e+04    816.004     12.411      0.000    8527.903    1.17e+04\n",
      "===================================================================================\n",
      "Ljung-Box (Q):                       87.04   Jarque-Bera (JB):               748.21\n",
      "Prob(Q):                              0.00   Prob(JB):                         0.00\n",
      "Heteroskedasticity (H):               0.20   Skew:                            -0.98\n",
      "Prob(H) (two-sided):                  0.00   Kurtosis:                        11.20\n",
      "===================================================================================\n",
      "\n",
      "Warnings:\n",
      "[1] Covariance matrix calculated using the outer product of gradients (complex-step).\n"
     ]
    },
    {
     "name": "stderr",
     "output_type": "stream",
     "text": [
      "C:\\Users\\casti\\AppData\\Local\\Continuum\\anaconda3\\lib\\site-packages\\statsmodels\\base\\model.py:568: ConvergenceWarning: Maximum Likelihood optimization failed to converge. Check mle_retvals\n",
      "  \"Check mle_retvals\", ConvergenceWarning)\n"
     ]
    },
    {
     "name": "stdout",
     "output_type": "stream",
     "text": [
      "                               SARIMAX Results                                \n",
      "==============================================================================\n",
      "Dep. Variable:                 counts   No. Observations:                  255\n",
      "Model:               SARIMAX(6, 1, 4)   Log Likelihood               -1548.574\n",
      "Date:                Wed, 29 Apr 2020   AIC                           3119.148\n",
      "Time:                        18:11:52   BIC                           3158.059\n",
      "Sample:                             0   HQIC                          3134.801\n",
      "                                - 255                                         \n",
      "Covariance Type:                  opg                                         \n",
      "==============================================================================\n",
      "                 coef    std err          z      P>|z|      [0.025      0.975]\n",
      "------------------------------------------------------------------------------\n",
      "ar.L1         -0.8338      0.119     -6.995      0.000      -1.067      -0.600\n",
      "ar.L2         -0.9147      0.083    -10.987      0.000      -1.078      -0.751\n",
      "ar.L3         -0.5902      0.127     -4.633      0.000      -0.840      -0.341\n",
      "ar.L4         -0.2102      0.128     -1.637      0.102      -0.462       0.042\n",
      "ar.L5         -0.4335      0.067     -6.493      0.000      -0.564      -0.303\n",
      "ar.L6         -0.3181      0.067     -4.759      0.000      -0.449      -0.187\n",
      "ma.L1          0.2783      0.132      2.102      0.036       0.019       0.538\n",
      "ma.L2          0.2315      0.114      2.039      0.041       0.009       0.454\n",
      "ma.L3         -0.3314      0.096     -3.461      0.001      -0.519      -0.144\n",
      "ma.L4         -0.7258      0.141     -5.136      0.000      -1.003      -0.449\n",
      "sigma2      1.011e+04    927.456     10.898      0.000    8289.652    1.19e+04\n",
      "===================================================================================\n",
      "Ljung-Box (Q):                       87.85   Jarque-Bera (JB):               785.31\n",
      "Prob(Q):                              0.00   Prob(JB):                         0.00\n",
      "Heteroskedasticity (H):               0.20   Skew:                            -0.98\n",
      "Prob(H) (two-sided):                  0.00   Kurtosis:                        11.39\n",
      "===================================================================================\n",
      "\n",
      "Warnings:\n",
      "[1] Covariance matrix calculated using the outer product of gradients (complex-step).\n"
     ]
    },
    {
     "name": "stderr",
     "output_type": "stream",
     "text": [
      "C:\\Users\\casti\\AppData\\Local\\Continuum\\anaconda3\\lib\\site-packages\\statsmodels\\base\\model.py:568: ConvergenceWarning: Maximum Likelihood optimization failed to converge. Check mle_retvals\n",
      "  \"Check mle_retvals\", ConvergenceWarning)\n"
     ]
    },
    {
     "name": "stdout",
     "output_type": "stream",
     "text": [
      "                               SARIMAX Results                                \n",
      "==============================================================================\n",
      "Dep. Variable:                 counts   No. Observations:                  256\n",
      "Model:               SARIMAX(6, 1, 4)   Log Likelihood               -1554.540\n",
      "Date:                Wed, 29 Apr 2020   AIC                           3131.080\n",
      "Time:                        18:11:54   BIC                           3170.034\n",
      "Sample:                             0   HQIC                          3146.749\n",
      "                                - 256                                         \n",
      "Covariance Type:                  opg                                         \n",
      "==============================================================================\n",
      "                 coef    std err          z      P>|z|      [0.025      0.975]\n",
      "------------------------------------------------------------------------------\n",
      "ar.L1         -0.7968      0.132     -6.054      0.000      -1.055      -0.539\n",
      "ar.L2         -0.8955      0.086    -10.409      0.000      -1.064      -0.727\n",
      "ar.L3         -0.5479      0.133     -4.132      0.000      -0.808      -0.288\n",
      "ar.L4         -0.2102      0.138     -1.523      0.128      -0.481       0.060\n",
      "ar.L5         -0.4367      0.065     -6.724      0.000      -0.564      -0.309\n",
      "ar.L6         -0.3327      0.064     -5.169      0.000      -0.459      -0.207\n",
      "ma.L1          0.2504      0.146      1.716      0.086      -0.036       0.536\n",
      "ma.L2          0.2449      0.117      2.097      0.036       0.016       0.474\n",
      "ma.L3         -0.3543      0.103     -3.425      0.001      -0.557      -0.152\n",
      "ma.L4         -0.6966      0.152     -4.587      0.000      -0.994      -0.399\n",
      "sigma2      1.015e+04    829.185     12.243      0.000    8526.333    1.18e+04\n",
      "===================================================================================\n",
      "Ljung-Box (Q):                       86.23   Jarque-Bera (JB):               687.07\n",
      "Prob(Q):                              0.00   Prob(JB):                         0.00\n",
      "Heteroskedasticity (H):               0.22   Skew:                            -0.92\n",
      "Prob(H) (two-sided):                  0.00   Kurtosis:                        10.83\n",
      "===================================================================================\n",
      "\n",
      "Warnings:\n",
      "[1] Covariance matrix calculated using the outer product of gradients (complex-step).\n"
     ]
    },
    {
     "name": "stderr",
     "output_type": "stream",
     "text": [
      "C:\\Users\\casti\\AppData\\Local\\Continuum\\anaconda3\\lib\\site-packages\\statsmodels\\base\\model.py:568: ConvergenceWarning: Maximum Likelihood optimization failed to converge. Check mle_retvals\n",
      "  \"Check mle_retvals\", ConvergenceWarning)\n"
     ]
    },
    {
     "name": "stdout",
     "output_type": "stream",
     "text": [
      "                               SARIMAX Results                                \n",
      "==============================================================================\n",
      "Dep. Variable:                 counts   No. Observations:                  257\n",
      "Model:               SARIMAX(6, 1, 4)   Log Likelihood               -1559.427\n",
      "Date:                Wed, 29 Apr 2020   AIC                           3140.854\n",
      "Time:                        18:11:56   BIC                           3179.851\n",
      "Sample:                             0   HQIC                          3156.538\n",
      "                                - 257                                         \n",
      "Covariance Type:                  opg                                         \n",
      "==============================================================================\n",
      "                 coef    std err          z      P>|z|      [0.025      0.975]\n",
      "------------------------------------------------------------------------------\n",
      "ar.L1         -0.6941      0.143     -4.852      0.000      -0.975      -0.414\n",
      "ar.L2         -1.0446      0.086    -12.157      0.000      -1.213      -0.876\n",
      "ar.L3         -0.5142      0.147     -3.498      0.000      -0.802      -0.226\n",
      "ar.L4         -0.4574      0.131     -3.492      0.000      -0.714      -0.201\n",
      "ar.L5         -0.4473      0.065     -6.879      0.000      -0.575      -0.320\n",
      "ar.L6         -0.3896      0.063     -6.182      0.000      -0.513      -0.266\n",
      "ma.L1          0.1579      0.155      1.017      0.309      -0.146       0.462\n",
      "ma.L2          0.4767      0.143      3.341      0.001       0.197       0.756\n",
      "ma.L3         -0.3482      0.120     -2.909      0.004      -0.583      -0.114\n",
      "ma.L4         -0.4352      0.176     -2.470      0.014      -0.781      -0.090\n",
      "sigma2      1.013e+04    799.351     12.667      0.000    8559.009    1.17e+04\n",
      "===================================================================================\n",
      "Ljung-Box (Q):                       90.11   Jarque-Bera (JB):               754.92\n",
      "Prob(Q):                              0.00   Prob(JB):                         0.00\n",
      "Heteroskedasticity (H):               0.23   Skew:                            -0.88\n",
      "Prob(H) (two-sided):                  0.00   Kurtosis:                        11.23\n",
      "===================================================================================\n",
      "\n",
      "Warnings:\n",
      "[1] Covariance matrix calculated using the outer product of gradients (complex-step).\n"
     ]
    },
    {
     "name": "stderr",
     "output_type": "stream",
     "text": [
      "C:\\Users\\casti\\AppData\\Local\\Continuum\\anaconda3\\lib\\site-packages\\statsmodels\\base\\model.py:568: ConvergenceWarning: Maximum Likelihood optimization failed to converge. Check mle_retvals\n",
      "  \"Check mle_retvals\", ConvergenceWarning)\n"
     ]
    },
    {
     "name": "stdout",
     "output_type": "stream",
     "text": [
      "                               SARIMAX Results                                \n",
      "==============================================================================\n",
      "Dep. Variable:                 counts   No. Observations:                  258\n",
      "Model:               SARIMAX(6, 1, 4)   Log Likelihood               -1567.295\n",
      "Date:                Wed, 29 Apr 2020   AIC                           3156.591\n",
      "Time:                        18:11:58   BIC                           3195.631\n",
      "Sample:                             0   HQIC                          3172.291\n",
      "                                - 258                                         \n",
      "Covariance Type:                  opg                                         \n",
      "==============================================================================\n",
      "                 coef    std err          z      P>|z|      [0.025      0.975]\n",
      "------------------------------------------------------------------------------\n",
      "ar.L1         -0.8623      0.106     -8.099      0.000      -1.071      -0.654\n",
      "ar.L2         -0.8813      0.083    -10.586      0.000      -1.045      -0.718\n",
      "ar.L3         -0.6126      0.118     -5.174      0.000      -0.845      -0.380\n",
      "ar.L4         -0.1725      0.122     -1.418      0.156      -0.411       0.066\n",
      "ar.L5         -0.4488      0.065     -6.894      0.000      -0.576      -0.321\n",
      "ar.L6         -0.3227      0.064     -5.022      0.000      -0.449      -0.197\n",
      "ma.L1          0.3171      0.119      2.660      0.008       0.083       0.551\n",
      "ma.L2          0.2018      0.095      2.133      0.033       0.016       0.387\n",
      "ma.L3         -0.3062      0.088     -3.481      0.001      -0.479      -0.134\n",
      "ma.L4         -0.7649      0.121     -6.345      0.000      -1.001      -0.529\n",
      "sigma2      1.003e+04    780.509     12.853      0.000    8501.902    1.16e+04\n",
      "===================================================================================\n",
      "Ljung-Box (Q):                       86.36   Jarque-Bera (JB):               752.57\n",
      "Prob(Q):                              0.00   Prob(JB):                         0.00\n",
      "Heteroskedasticity (H):               0.21   Skew:                            -0.96\n",
      "Prob(H) (two-sided):                  0.00   Kurtosis:                        11.16\n",
      "===================================================================================\n",
      "\n",
      "Warnings:\n",
      "[1] Covariance matrix calculated using the outer product of gradients (complex-step).\n"
     ]
    },
    {
     "name": "stderr",
     "output_type": "stream",
     "text": [
      "C:\\Users\\casti\\AppData\\Local\\Continuum\\anaconda3\\lib\\site-packages\\statsmodels\\base\\model.py:568: ConvergenceWarning: Maximum Likelihood optimization failed to converge. Check mle_retvals\n",
      "  \"Check mle_retvals\", ConvergenceWarning)\n"
     ]
    },
    {
     "name": "stdout",
     "output_type": "stream",
     "text": [
      "                               SARIMAX Results                                \n",
      "==============================================================================\n",
      "Dep. Variable:                 counts   No. Observations:                  259\n",
      "Model:               SARIMAX(6, 1, 4)   Log Likelihood               -1573.067\n",
      "Date:                Wed, 29 Apr 2020   AIC                           3168.134\n",
      "Time:                        18:12:00   BIC                           3207.216\n",
      "Sample:                             0   HQIC                          3183.849\n",
      "                                - 259                                         \n",
      "Covariance Type:                  opg                                         \n",
      "==============================================================================\n",
      "                 coef    std err          z      P>|z|      [0.025      0.975]\n",
      "------------------------------------------------------------------------------\n",
      "ar.L1         -0.8622      0.108     -7.993      0.000      -1.074      -0.651\n",
      "ar.L2         -0.8816      0.083    -10.632      0.000      -1.044      -0.719\n",
      "ar.L3         -0.6114      0.120     -5.115      0.000      -0.846      -0.377\n",
      "ar.L4         -0.1665      0.121     -1.382      0.167      -0.403       0.070\n",
      "ar.L5         -0.4417      0.065     -6.757      0.000      -0.570      -0.314\n",
      "ar.L6         -0.3162      0.065     -4.870      0.000      -0.444      -0.189\n",
      "ma.L1          0.3153      0.120      2.622      0.009       0.080       0.551\n",
      "ma.L2          0.1978      0.090      2.194      0.028       0.021       0.374\n",
      "ma.L3         -0.3059      0.088     -3.464      0.001      -0.479      -0.133\n",
      "ma.L4         -0.7642      0.119     -6.433      0.000      -0.997      -0.531\n",
      "sigma2      9988.9984    709.725     14.074      0.000    8597.962    1.14e+04\n",
      "===================================================================================\n",
      "Ljung-Box (Q):                       86.81   Jarque-Bera (JB):               804.23\n",
      "Prob(Q):                              0.00   Prob(JB):                         0.00\n",
      "Heteroskedasticity (H):               0.21   Skew:                            -0.99\n",
      "Prob(H) (two-sided):                  0.00   Kurtosis:                        11.42\n",
      "===================================================================================\n",
      "\n",
      "Warnings:\n",
      "[1] Covariance matrix calculated using the outer product of gradients (complex-step).\n"
     ]
    },
    {
     "name": "stderr",
     "output_type": "stream",
     "text": [
      "C:\\Users\\casti\\AppData\\Local\\Continuum\\anaconda3\\lib\\site-packages\\statsmodels\\base\\model.py:568: ConvergenceWarning: Maximum Likelihood optimization failed to converge. Check mle_retvals\n",
      "  \"Check mle_retvals\", ConvergenceWarning)\n"
     ]
    },
    {
     "name": "stdout",
     "output_type": "stream",
     "text": [
      "                               SARIMAX Results                                \n",
      "==============================================================================\n",
      "Dep. Variable:                 counts   No. Observations:                  260\n",
      "Model:               SARIMAX(6, 1, 4)   Log Likelihood               -1579.038\n",
      "Date:                Wed, 29 Apr 2020   AIC                           3180.076\n",
      "Time:                        18:12:02   BIC                           3219.201\n",
      "Sample:                             0   HQIC                          3195.806\n",
      "                                - 260                                         \n",
      "Covariance Type:                  opg                                         \n",
      "==============================================================================\n",
      "                 coef    std err          z      P>|z|      [0.025      0.975]\n",
      "------------------------------------------------------------------------------\n",
      "ar.L1         -0.8671      0.107     -8.140      0.000      -1.076      -0.658\n",
      "ar.L2         -0.8835      0.082    -10.754      0.000      -1.045      -0.722\n",
      "ar.L3         -0.6085      0.118     -5.145      0.000      -0.840      -0.377\n",
      "ar.L4         -0.1698      0.120     -1.415      0.157      -0.405       0.065\n",
      "ar.L5         -0.4387      0.065     -6.750      0.000      -0.566      -0.311\n",
      "ar.L6         -0.3210      0.063     -5.079      0.000      -0.445      -0.197\n",
      "ma.L1          0.3123      0.119      2.617      0.009       0.078       0.546\n",
      "ma.L2          0.1954      0.085      2.313      0.021       0.030       0.361\n",
      "ma.L3         -0.3022      0.088     -3.422      0.001      -0.475      -0.129\n",
      "ma.L4         -0.7492      0.116     -6.451      0.000      -0.977      -0.522\n",
      "sigma2      9952.1770    637.836     15.603      0.000    8702.041    1.12e+04\n",
      "===================================================================================\n",
      "Ljung-Box (Q):                       88.35   Jarque-Bera (JB):               805.42\n",
      "Prob(Q):                              0.00   Prob(JB):                         0.00\n",
      "Heteroskedasticity (H):               0.21   Skew:                            -0.98\n",
      "Prob(H) (two-sided):                  0.00   Kurtosis:                        11.41\n",
      "===================================================================================\n",
      "\n",
      "Warnings:\n",
      "[1] Covariance matrix calculated using the outer product of gradients (complex-step).\n"
     ]
    },
    {
     "name": "stderr",
     "output_type": "stream",
     "text": [
      "C:\\Users\\casti\\AppData\\Local\\Continuum\\anaconda3\\lib\\site-packages\\statsmodels\\base\\model.py:568: ConvergenceWarning: Maximum Likelihood optimization failed to converge. Check mle_retvals\n",
      "  \"Check mle_retvals\", ConvergenceWarning)\n"
     ]
    },
    {
     "name": "stdout",
     "output_type": "stream",
     "text": [
      "                               SARIMAX Results                                \n",
      "==============================================================================\n",
      "Dep. Variable:                 counts   No. Observations:                  261\n",
      "Model:               SARIMAX(6, 1, 4)   Log Likelihood               -1584.757\n",
      "Date:                Wed, 29 Apr 2020   AIC                           3191.513\n",
      "Time:                        18:12:03   BIC                           3230.681\n",
      "Sample:                             0   HQIC                          3207.259\n",
      "                                - 261                                         \n",
      "Covariance Type:                  opg                                         \n",
      "==============================================================================\n",
      "                 coef    std err          z      P>|z|      [0.025      0.975]\n",
      "------------------------------------------------------------------------------\n",
      "ar.L1         -0.8929      0.088    -10.150      0.000      -1.065      -0.721\n",
      "ar.L2         -0.8946      0.081    -11.099      0.000      -1.053      -0.737\n",
      "ar.L3         -0.6422      0.110     -5.848      0.000      -0.857      -0.427\n",
      "ar.L4         -0.1558      0.114     -1.368      0.171      -0.379       0.067\n",
      "ar.L5         -0.4416      0.065     -6.806      0.000      -0.569      -0.314\n",
      "ar.L6         -0.3102      0.062     -5.040      0.000      -0.431      -0.190\n",
      "ma.L1          0.3499      0.099      3.552      0.000       0.157       0.543\n",
      "ma.L2          0.1823      0.081      2.248      0.025       0.023       0.341\n",
      "ma.L3         -0.2856      0.077     -3.697      0.000      -0.437      -0.134\n",
      "ma.L4         -0.7912      0.099     -7.972      0.000      -0.986      -0.597\n",
      "sigma2      9928.2895    724.716     13.700      0.000    8507.873    1.13e+04\n",
      "===================================================================================\n",
      "Ljung-Box (Q):                       88.07   Jarque-Bera (JB):               746.37\n",
      "Prob(Q):                              0.00   Prob(JB):                         0.00\n",
      "Heteroskedasticity (H):               0.21   Skew:                            -0.95\n",
      "Prob(H) (two-sided):                  0.00   Kurtosis:                        11.08\n",
      "===================================================================================\n",
      "\n",
      "Warnings:\n",
      "[1] Covariance matrix calculated using the outer product of gradients (complex-step).\n"
     ]
    },
    {
     "name": "stderr",
     "output_type": "stream",
     "text": [
      "C:\\Users\\casti\\AppData\\Local\\Continuum\\anaconda3\\lib\\site-packages\\statsmodels\\base\\model.py:568: ConvergenceWarning: Maximum Likelihood optimization failed to converge. Check mle_retvals\n",
      "  \"Check mle_retvals\", ConvergenceWarning)\n"
     ]
    },
    {
     "name": "stdout",
     "output_type": "stream",
     "text": [
      "                               SARIMAX Results                                \n",
      "==============================================================================\n",
      "Dep. Variable:                 counts   No. Observations:                  262\n",
      "Model:               SARIMAX(6, 1, 4)   Log Likelihood               -1590.309\n",
      "Date:                Wed, 29 Apr 2020   AIC                           3202.618\n",
      "Time:                        18:12:05   BIC                           3241.828\n",
      "Sample:                             0   HQIC                          3218.379\n",
      "                                - 262                                         \n",
      "Covariance Type:                  opg                                         \n",
      "==============================================================================\n",
      "                 coef    std err          z      P>|z|      [0.025      0.975]\n",
      "------------------------------------------------------------------------------\n",
      "ar.L1         -0.8857      0.092     -9.638      0.000      -1.066      -0.706\n",
      "ar.L2         -0.8853      0.081    -10.947      0.000      -1.044      -0.727\n",
      "ar.L3         -0.6295      0.111     -5.672      0.000      -0.847      -0.412\n",
      "ar.L4         -0.1489      0.116     -1.287      0.198      -0.376       0.078\n",
      "ar.L5         -0.4377      0.065     -6.733      0.000      -0.565      -0.310\n",
      "ar.L6         -0.3104      0.062     -4.994      0.000      -0.432      -0.189\n",
      "ma.L1          0.3400      0.103      3.306      0.001       0.138       0.542\n",
      "ma.L2          0.1798      0.083      2.163      0.031       0.017       0.343\n",
      "ma.L3         -0.2951      0.079     -3.751      0.000      -0.449      -0.141\n",
      "ma.L4         -0.7909      0.104     -7.640      0.000      -0.994      -0.588\n",
      "sigma2      9886.7903    722.749     13.679      0.000    8470.229    1.13e+04\n",
      "===================================================================================\n",
      "Ljung-Box (Q):                       88.45   Jarque-Bera (JB):               779.82\n",
      "Prob(Q):                              0.00   Prob(JB):                         0.00\n",
      "Heteroskedasticity (H):               0.21   Skew:                            -0.97\n",
      "Prob(H) (two-sided):                  0.00   Kurtosis:                        11.24\n",
      "===================================================================================\n",
      "\n",
      "Warnings:\n",
      "[1] Covariance matrix calculated using the outer product of gradients (complex-step).\n"
     ]
    },
    {
     "name": "stderr",
     "output_type": "stream",
     "text": [
      "C:\\Users\\casti\\AppData\\Local\\Continuum\\anaconda3\\lib\\site-packages\\statsmodels\\base\\model.py:568: ConvergenceWarning: Maximum Likelihood optimization failed to converge. Check mle_retvals\n",
      "  \"Check mle_retvals\", ConvergenceWarning)\n"
     ]
    },
    {
     "name": "stdout",
     "output_type": "stream",
     "text": [
      "                               SARIMAX Results                                \n",
      "==============================================================================\n",
      "Dep. Variable:                 counts   No. Observations:                  263\n",
      "Model:               SARIMAX(6, 1, 4)   Log Likelihood               -1598.030\n",
      "Date:                Wed, 29 Apr 2020   AIC                           3218.061\n",
      "Time:                        18:12:07   BIC                           3257.313\n",
      "Sample:                             0   HQIC                          3233.837\n",
      "                                - 263                                         \n",
      "Covariance Type:                  opg                                         \n",
      "==============================================================================\n",
      "                 coef    std err          z      P>|z|      [0.025      0.975]\n",
      "------------------------------------------------------------------------------\n",
      "ar.L1         -0.8472      0.099     -8.566      0.000      -1.041      -0.653\n",
      "ar.L2         -0.8871      0.083    -10.745      0.000      -1.049      -0.725\n",
      "ar.L3         -0.5917      0.115     -5.134      0.000      -0.818      -0.366\n",
      "ar.L4         -0.1785      0.122     -1.461      0.144      -0.418       0.061\n",
      "ar.L5         -0.4330      0.066     -6.544      0.000      -0.563      -0.303\n",
      "ar.L6         -0.3233      0.065     -5.003      0.000      -0.450      -0.197\n",
      "ma.L1          0.3130      0.110      2.848      0.004       0.098       0.528\n",
      "ma.L2          0.2130      0.085      2.520      0.012       0.047       0.379\n",
      "ma.L3         -0.3021      0.082     -3.698      0.000      -0.462      -0.142\n",
      "ma.L4         -0.7467      0.108     -6.927      0.000      -0.958      -0.535\n",
      "sigma2      1.005e+04    656.349     15.319      0.000    8767.986    1.13e+04\n",
      "===================================================================================\n",
      "Ljung-Box (Q):                       86.37   Jarque-Bera (JB):               782.91\n",
      "Prob(Q):                              0.00   Prob(JB):                         0.00\n",
      "Heteroskedasticity (H):               0.24   Skew:                            -0.97\n",
      "Prob(H) (two-sided):                  0.00   Kurtosis:                        11.25\n",
      "===================================================================================\n",
      "\n",
      "Warnings:\n",
      "[1] Covariance matrix calculated using the outer product of gradients (complex-step).\n"
     ]
    },
    {
     "name": "stderr",
     "output_type": "stream",
     "text": [
      "C:\\Users\\casti\\AppData\\Local\\Continuum\\anaconda3\\lib\\site-packages\\statsmodels\\base\\model.py:568: ConvergenceWarning: Maximum Likelihood optimization failed to converge. Check mle_retvals\n",
      "  \"Check mle_retvals\", ConvergenceWarning)\n"
     ]
    },
    {
     "name": "stdout",
     "output_type": "stream",
     "text": [
      "                               SARIMAX Results                                \n",
      "==============================================================================\n",
      "Dep. Variable:                 counts   No. Observations:                  264\n",
      "Model:               SARIMAX(6, 1, 4)   Log Likelihood               -1603.984\n",
      "Date:                Wed, 29 Apr 2020   AIC                           3229.967\n",
      "Time:                        18:12:09   BIC                           3269.261\n",
      "Sample:                             0   HQIC                          3245.758\n",
      "                                - 264                                         \n",
      "Covariance Type:                  opg                                         \n",
      "==============================================================================\n",
      "                 coef    std err          z      P>|z|      [0.025      0.975]\n",
      "------------------------------------------------------------------------------\n",
      "ar.L1         -0.8955      0.101     -8.833      0.000      -1.094      -0.697\n",
      "ar.L2         -0.9199      0.081    -11.356      0.000      -1.079      -0.761\n",
      "ar.L3         -0.6415      0.115     -5.600      0.000      -0.866      -0.417\n",
      "ar.L4         -0.2086      0.119     -1.753      0.080      -0.442       0.025\n",
      "ar.L5         -0.4387      0.066     -6.653      0.000      -0.568      -0.309\n",
      "ar.L6         -0.3401      0.062     -5.473      0.000      -0.462      -0.218\n",
      "ma.L1          0.3129      0.116      2.706      0.007       0.086       0.540\n",
      "ma.L2          0.2200      0.084      2.604      0.009       0.054       0.386\n",
      "ma.L3         -0.2929      0.085     -3.432      0.001      -0.460      -0.126\n",
      "ma.L4         -0.7286      0.113     -6.454      0.000      -0.950      -0.507\n",
      "sigma2      1.005e+04    621.032     16.181      0.000    8832.015    1.13e+04\n",
      "===================================================================================\n",
      "Ljung-Box (Q):                       90.85   Jarque-Bera (JB):               748.93\n",
      "Prob(Q):                              0.00   Prob(JB):                         0.00\n",
      "Heteroskedasticity (H):               0.24   Skew:                            -0.93\n",
      "Prob(H) (two-sided):                  0.00   Kurtosis:                        11.06\n",
      "===================================================================================\n",
      "\n",
      "Warnings:\n",
      "[1] Covariance matrix calculated using the outer product of gradients (complex-step).\n"
     ]
    },
    {
     "name": "stderr",
     "output_type": "stream",
     "text": [
      "C:\\Users\\casti\\AppData\\Local\\Continuum\\anaconda3\\lib\\site-packages\\statsmodels\\base\\model.py:568: ConvergenceWarning: Maximum Likelihood optimization failed to converge. Check mle_retvals\n",
      "  \"Check mle_retvals\", ConvergenceWarning)\n"
     ]
    },
    {
     "name": "stdout",
     "output_type": "stream",
     "text": [
      "                               SARIMAX Results                                \n",
      "==============================================================================\n",
      "Dep. Variable:                 counts   No. Observations:                  265\n",
      "Model:               SARIMAX(6, 1, 4)   Log Likelihood               -1609.074\n",
      "Date:                Wed, 29 Apr 2020   AIC                           3240.148\n",
      "Time:                        18:12:11   BIC                           3279.483\n",
      "Sample:                             0   HQIC                          3255.954\n",
      "                                - 265                                         \n",
      "Covariance Type:                  opg                                         \n",
      "==============================================================================\n",
      "                 coef    std err          z      P>|z|      [0.025      0.975]\n",
      "------------------------------------------------------------------------------\n",
      "ar.L1         -0.8287      0.169     -4.897      0.000      -1.160      -0.497\n",
      "ar.L2         -0.9271      0.081    -11.395      0.000      -1.087      -0.768\n",
      "ar.L3         -0.6217      0.160     -3.881      0.000      -0.936      -0.308\n",
      "ar.L4         -0.2273      0.133     -1.714      0.087      -0.487       0.033\n",
      "ar.L5         -0.4604      0.064     -7.189      0.000      -0.586      -0.335\n",
      "ar.L6         -0.3123      0.066     -4.753      0.000      -0.441      -0.184\n",
      "ma.L1          0.2604      0.186      1.400      0.161      -0.104       0.625\n",
      "ma.L2          0.2499      0.127      1.967      0.049       0.001       0.499\n",
      "ma.L3         -0.3243      0.131     -2.478      0.013      -0.581      -0.068\n",
      "ma.L4         -0.6959      0.180     -3.866      0.000      -1.049      -0.343\n",
      "sigma2      1.004e+04    620.795     16.175      0.000    8824.682    1.13e+04\n",
      "===================================================================================\n",
      "Ljung-Box (Q):                       87.33   Jarque-Bera (JB):               689.77\n",
      "Prob(Q):                              0.00   Prob(JB):                         0.00\n",
      "Heteroskedasticity (H):               0.24   Skew:                            -0.91\n",
      "Prob(H) (two-sided):                  0.00   Kurtosis:                        10.71\n",
      "===================================================================================\n",
      "\n",
      "Warnings:\n",
      "[1] Covariance matrix calculated using the outer product of gradients (complex-step).\n"
     ]
    },
    {
     "name": "stderr",
     "output_type": "stream",
     "text": [
      "C:\\Users\\casti\\AppData\\Local\\Continuum\\anaconda3\\lib\\site-packages\\statsmodels\\base\\model.py:568: ConvergenceWarning: Maximum Likelihood optimization failed to converge. Check mle_retvals\n",
      "  \"Check mle_retvals\", ConvergenceWarning)\n"
     ]
    },
    {
     "name": "stdout",
     "output_type": "stream",
     "text": [
      "                               SARIMAX Results                                \n",
      "==============================================================================\n",
      "Dep. Variable:                 counts   No. Observations:                  266\n",
      "Model:               SARIMAX(6, 1, 4)   Log Likelihood               -1615.190\n",
      "Date:                Wed, 29 Apr 2020   AIC                           3252.381\n",
      "Time:                        18:12:13   BIC                           3291.758\n",
      "Sample:                             0   HQIC                          3268.202\n",
      "                                - 266                                         \n",
      "Covariance Type:                  opg                                         \n",
      "==============================================================================\n",
      "                 coef    std err          z      P>|z|      [0.025      0.975]\n",
      "------------------------------------------------------------------------------\n",
      "ar.L1         -0.9028      0.095     -9.485      0.000      -1.089      -0.716\n",
      "ar.L2         -0.9113      0.081    -11.301      0.000      -1.069      -0.753\n",
      "ar.L3         -0.6482      0.112     -5.805      0.000      -0.867      -0.429\n",
      "ar.L4         -0.1900      0.117     -1.627      0.104      -0.419       0.039\n",
      "ar.L5         -0.4416      0.065     -6.756      0.000      -0.570      -0.313\n",
      "ar.L6         -0.3339      0.061     -5.464      0.000      -0.454      -0.214\n",
      "ma.L1          0.3357      0.109      3.085      0.002       0.122       0.549\n",
      "ma.L2          0.2134      0.081      2.625      0.009       0.054       0.373\n",
      "ma.L3         -0.2811      0.082     -3.426      0.001      -0.442      -0.120\n",
      "ma.L4         -0.7493      0.105     -7.131      0.000      -0.955      -0.543\n",
      "sigma2      9979.1711    630.173     15.836      0.000    8744.056    1.12e+04\n",
      "===================================================================================\n",
      "Ljung-Box (Q):                       89.12   Jarque-Bera (JB):               753.17\n",
      "Prob(Q):                              0.00   Prob(JB):                         0.00\n",
      "Heteroskedasticity (H):               0.23   Skew:                            -0.94\n",
      "Prob(H) (two-sided):                  0.00   Kurtosis:                        11.04\n",
      "===================================================================================\n",
      "\n",
      "Warnings:\n",
      "[1] Covariance matrix calculated using the outer product of gradients (complex-step).\n"
     ]
    },
    {
     "name": "stderr",
     "output_type": "stream",
     "text": [
      "C:\\Users\\casti\\AppData\\Local\\Continuum\\anaconda3\\lib\\site-packages\\statsmodels\\base\\model.py:568: ConvergenceWarning: Maximum Likelihood optimization failed to converge. Check mle_retvals\n",
      "  \"Check mle_retvals\", ConvergenceWarning)\n"
     ]
    },
    {
     "name": "stdout",
     "output_type": "stream",
     "text": [
      "                               SARIMAX Results                                \n",
      "==============================================================================\n",
      "Dep. Variable:                 counts   No. Observations:                  267\n",
      "Model:               SARIMAX(6, 1, 4)   Log Likelihood               -1620.928\n",
      "Date:                Wed, 29 Apr 2020   AIC                           3263.856\n",
      "Time:                        18:12:15   BIC                           3303.275\n",
      "Sample:                             0   HQIC                          3279.692\n",
      "                                - 267                                         \n",
      "Covariance Type:                  opg                                         \n",
      "==============================================================================\n",
      "                 coef    std err          z      P>|z|      [0.025      0.975]\n",
      "------------------------------------------------------------------------------\n",
      "ar.L1         -0.9053      0.084    -10.759      0.000      -1.070      -0.740\n",
      "ar.L2         -0.8897      0.080    -11.116      0.000      -1.047      -0.733\n",
      "ar.L3         -0.6573      0.108     -6.110      0.000      -0.868      -0.446\n",
      "ar.L4         -0.1600      0.111     -1.446      0.148      -0.377       0.057\n",
      "ar.L5         -0.4540      0.064     -7.091      0.000      -0.580      -0.329\n",
      "ar.L6         -0.3224      0.060     -5.393      0.000      -0.440      -0.205\n",
      "ma.L1          0.3595      0.095      3.791      0.000       0.174       0.545\n",
      "ma.L2          0.1788      0.075      2.370      0.018       0.031       0.327\n",
      "ma.L3         -0.2766      0.074     -3.715      0.000      -0.423      -0.131\n",
      "ma.L4         -0.7962      0.091     -8.729      0.000      -0.975      -0.617\n",
      "sigma2      9954.3881    650.850     15.294      0.000    8678.746    1.12e+04\n",
      "===================================================================================\n",
      "Ljung-Box (Q):                       87.21   Jarque-Bera (JB):               711.58\n",
      "Prob(Q):                              0.00   Prob(JB):                         0.00\n",
      "Heteroskedasticity (H):               0.24   Skew:                            -0.93\n",
      "Prob(H) (two-sided):                  0.00   Kurtosis:                        10.79\n",
      "===================================================================================\n",
      "\n",
      "Warnings:\n",
      "[1] Covariance matrix calculated using the outer product of gradients (complex-step).\n"
     ]
    },
    {
     "name": "stderr",
     "output_type": "stream",
     "text": [
      "C:\\Users\\casti\\AppData\\Local\\Continuum\\anaconda3\\lib\\site-packages\\statsmodels\\base\\model.py:568: ConvergenceWarning: Maximum Likelihood optimization failed to converge. Check mle_retvals\n",
      "  \"Check mle_retvals\", ConvergenceWarning)\n"
     ]
    },
    {
     "name": "stdout",
     "output_type": "stream",
     "text": [
      "                               SARIMAX Results                                \n",
      "==============================================================================\n",
      "Dep. Variable:                 counts   No. Observations:                  268\n",
      "Model:               SARIMAX(6, 1, 4)   Log Likelihood               -1626.214\n",
      "Date:                Wed, 29 Apr 2020   AIC                           3274.428\n",
      "Time:                        18:12:16   BIC                           3313.888\n",
      "Sample:                             0   HQIC                          3290.279\n",
      "                                - 268                                         \n",
      "Covariance Type:                  opg                                         \n",
      "==============================================================================\n",
      "                 coef    std err          z      P>|z|      [0.025      0.975]\n",
      "------------------------------------------------------------------------------\n",
      "ar.L1         -0.8809      0.110     -8.002      0.000      -1.097      -0.665\n",
      "ar.L2         -0.9176      0.080    -11.431      0.000      -1.075      -0.760\n",
      "ar.L3         -0.6479      0.119     -5.440      0.000      -0.881      -0.414\n",
      "ar.L4         -0.2072      0.119     -1.741      0.082      -0.440       0.026\n",
      "ar.L5         -0.4543      0.063     -7.177      0.000      -0.578      -0.330\n",
      "ar.L6         -0.3304      0.061     -5.373      0.000      -0.451      -0.210\n",
      "ma.L1          0.3263      0.125      2.620      0.009       0.082       0.570\n",
      "ma.L2          0.2330      0.090      2.580      0.010       0.056       0.410\n",
      "ma.L3         -0.2840      0.092     -3.098      0.002      -0.464      -0.104\n",
      "ma.L4         -0.7300      0.120     -6.062      0.000      -0.966      -0.494\n",
      "sigma2      9925.2488    631.116     15.727      0.000    8688.284    1.12e+04\n",
      "===================================================================================\n",
      "Ljung-Box (Q):                       87.92   Jarque-Bera (JB):               774.39\n",
      "Prob(Q):                              0.00   Prob(JB):                         0.00\n",
      "Heteroskedasticity (H):               0.24   Skew:                            -0.94\n",
      "Prob(H) (two-sided):                  0.00   Kurtosis:                        11.13\n",
      "===================================================================================\n",
      "\n",
      "Warnings:\n",
      "[1] Covariance matrix calculated using the outer product of gradients (complex-step).\n"
     ]
    },
    {
     "name": "stderr",
     "output_type": "stream",
     "text": [
      "C:\\Users\\casti\\AppData\\Local\\Continuum\\anaconda3\\lib\\site-packages\\statsmodels\\base\\model.py:568: ConvergenceWarning: Maximum Likelihood optimization failed to converge. Check mle_retvals\n",
      "  \"Check mle_retvals\", ConvergenceWarning)\n"
     ]
    },
    {
     "name": "stdout",
     "output_type": "stream",
     "text": [
      "                               SARIMAX Results                                \n",
      "==============================================================================\n",
      "Dep. Variable:                 counts   No. Observations:                  269\n",
      "Model:               SARIMAX(6, 1, 4)   Log Likelihood               -1632.585\n",
      "Date:                Wed, 29 Apr 2020   AIC                           3287.169\n",
      "Time:                        18:12:18   BIC                           3326.670\n",
      "Sample:                             0   HQIC                          3303.035\n",
      "                                - 269                                         \n",
      "Covariance Type:                  opg                                         \n",
      "==============================================================================\n",
      "                 coef    std err          z      P>|z|      [0.025      0.975]\n",
      "------------------------------------------------------------------------------\n",
      "ar.L1         -0.8953      0.090     -9.961      0.000      -1.071      -0.719\n",
      "ar.L2         -0.9023      0.079    -11.379      0.000      -1.058      -0.747\n",
      "ar.L3         -0.6611      0.110     -6.032      0.000      -0.876      -0.446\n",
      "ar.L4         -0.1801      0.111     -1.616      0.106      -0.399       0.038\n",
      "ar.L5         -0.4596      0.063     -7.295      0.000      -0.583      -0.336\n",
      "ar.L6         -0.3218      0.060     -5.334      0.000      -0.440      -0.204\n",
      "ma.L1          0.3542      0.101      3.498      0.000       0.156       0.553\n",
      "ma.L2          0.1957      0.076      2.562      0.010       0.046       0.345\n",
      "ma.L3         -0.2737      0.078     -3.500      0.000      -0.427      -0.120\n",
      "ma.L4         -0.7773      0.097     -8.052      0.000      -0.967      -0.588\n",
      "sigma2      9913.2746    626.065     15.834      0.000    8686.209    1.11e+04\n",
      "===================================================================================\n",
      "Ljung-Box (Q):                       87.86   Jarque-Bera (JB):               737.41\n",
      "Prob(Q):                              0.00   Prob(JB):                         0.00\n",
      "Heteroskedasticity (H):               0.24   Skew:                            -0.93\n",
      "Prob(H) (two-sided):                  0.00   Kurtosis:                        10.91\n",
      "===================================================================================\n",
      "\n",
      "Warnings:\n",
      "[1] Covariance matrix calculated using the outer product of gradients (complex-step).\n"
     ]
    },
    {
     "name": "stderr",
     "output_type": "stream",
     "text": [
      "C:\\Users\\casti\\AppData\\Local\\Continuum\\anaconda3\\lib\\site-packages\\statsmodels\\base\\model.py:568: ConvergenceWarning: Maximum Likelihood optimization failed to converge. Check mle_retvals\n",
      "  \"Check mle_retvals\", ConvergenceWarning)\n"
     ]
    },
    {
     "name": "stdout",
     "output_type": "stream",
     "text": [
      "                               SARIMAX Results                                \n",
      "==============================================================================\n",
      "Dep. Variable:                 counts   No. Observations:                  270\n",
      "Model:               SARIMAX(6, 1, 4)   Log Likelihood               -1638.077\n",
      "Date:                Wed, 29 Apr 2020   AIC                           3298.155\n",
      "Time:                        18:12:21   BIC                           3337.696\n",
      "Sample:                             0   HQIC                          3314.035\n",
      "                                - 270                                         \n",
      "Covariance Type:                  opg                                         \n",
      "==============================================================================\n",
      "                 coef    std err          z      P>|z|      [0.025      0.975]\n",
      "------------------------------------------------------------------------------\n",
      "ar.L1         -0.8910      0.103     -8.639      0.000      -1.093      -0.689\n",
      "ar.L2         -0.9092      0.080    -11.388      0.000      -1.066      -0.753\n",
      "ar.L3         -0.6449      0.116     -5.577      0.000      -0.872      -0.418\n",
      "ar.L4         -0.1915      0.116     -1.652      0.099      -0.419       0.036\n",
      "ar.L5         -0.4472      0.064     -7.013      0.000      -0.572      -0.322\n",
      "ar.L6         -0.3270      0.061     -5.329      0.000      -0.447      -0.207\n",
      "ma.L1          0.3342      0.117      2.856      0.004       0.105       0.563\n",
      "ma.L2          0.2204      0.084      2.628      0.009       0.056       0.385\n",
      "ma.L3         -0.2805      0.087     -3.227      0.001      -0.451      -0.110\n",
      "ma.L4         -0.7427      0.112     -6.614      0.000      -0.963      -0.523\n",
      "sigma2      9880.5896    611.080     16.169      0.000    8682.895    1.11e+04\n",
      "===================================================================================\n",
      "Ljung-Box (Q):                       89.14   Jarque-Bera (JB):               797.53\n",
      "Prob(Q):                              0.00   Prob(JB):                         0.00\n",
      "Heteroskedasticity (H):               0.24   Skew:                            -0.95\n",
      "Prob(H) (two-sided):                  0.00   Kurtosis:                        11.22\n",
      "===================================================================================\n",
      "\n",
      "Warnings:\n",
      "[1] Covariance matrix calculated using the outer product of gradients (complex-step).\n"
     ]
    },
    {
     "name": "stderr",
     "output_type": "stream",
     "text": [
      "C:\\Users\\casti\\AppData\\Local\\Continuum\\anaconda3\\lib\\site-packages\\statsmodels\\base\\model.py:568: ConvergenceWarning: Maximum Likelihood optimization failed to converge. Check mle_retvals\n",
      "  \"Check mle_retvals\", ConvergenceWarning)\n"
     ]
    },
    {
     "name": "stdout",
     "output_type": "stream",
     "text": [
      "                               SARIMAX Results                                \n",
      "==============================================================================\n",
      "Dep. Variable:                 counts   No. Observations:                  271\n",
      "Model:               SARIMAX(6, 1, 4)   Log Likelihood               -1643.058\n",
      "Date:                Wed, 29 Apr 2020   AIC                           3308.116\n",
      "Time:                        18:12:22   BIC                           3347.698\n",
      "Sample:                             0   HQIC                          3324.010\n",
      "                                - 271                                         \n",
      "Covariance Type:                  opg                                         \n",
      "==============================================================================\n",
      "                 coef    std err          z      P>|z|      [0.025      0.975]\n",
      "------------------------------------------------------------------------------\n",
      "ar.L1         -0.7712      0.137     -5.626      0.000      -1.040      -0.503\n",
      "ar.L2         -0.8584      0.085    -10.119      0.000      -1.025      -0.692\n",
      "ar.L3         -0.5017      0.134     -3.750      0.000      -0.764      -0.240\n",
      "ar.L4         -0.1802      0.137     -1.319      0.187      -0.448       0.088\n",
      "ar.L5         -0.4205      0.064     -6.559      0.000      -0.546      -0.295\n",
      "ar.L6         -0.3345      0.065     -5.186      0.000      -0.461      -0.208\n",
      "ma.L1          0.2543      0.152      1.673      0.094      -0.044       0.552\n",
      "ma.L2          0.2785      0.115      2.423      0.015       0.053       0.504\n",
      "ma.L3         -0.3341      0.110     -3.051      0.002      -0.549      -0.119\n",
      "ma.L4         -0.6675      0.152     -4.401      0.000      -0.965      -0.370\n",
      "sigma2      9906.0813    663.671     14.926      0.000    8605.310    1.12e+04\n",
      "===================================================================================\n",
      "Ljung-Box (Q):                       86.24   Jarque-Bera (JB):               858.54\n",
      "Prob(Q):                              0.00   Prob(JB):                         0.00\n",
      "Heteroskedasticity (H):               0.26   Skew:                            -0.97\n",
      "Prob(H) (two-sided):                  0.00   Kurtosis:                        11.52\n",
      "===================================================================================\n",
      "\n",
      "Warnings:\n",
      "[1] Covariance matrix calculated using the outer product of gradients (complex-step).\n"
     ]
    },
    {
     "name": "stderr",
     "output_type": "stream",
     "text": [
      "C:\\Users\\casti\\AppData\\Local\\Continuum\\anaconda3\\lib\\site-packages\\statsmodels\\base\\model.py:568: ConvergenceWarning: Maximum Likelihood optimization failed to converge. Check mle_retvals\n",
      "  \"Check mle_retvals\", ConvergenceWarning)\n"
     ]
    },
    {
     "name": "stdout",
     "output_type": "stream",
     "text": [
      "                               SARIMAX Results                                \n",
      "==============================================================================\n",
      "Dep. Variable:                 counts   No. Observations:                  272\n",
      "Model:               SARIMAX(6, 1, 4)   Log Likelihood               -1650.302\n",
      "Date:                Wed, 29 Apr 2020   AIC                           3322.604\n",
      "Time:                        18:12:24   BIC                           3362.227\n",
      "Sample:                             0   HQIC                          3338.513\n",
      "                                - 272                                         \n",
      "Covariance Type:                  opg                                         \n",
      "==============================================================================\n",
      "                 coef    std err          z      P>|z|      [0.025      0.975]\n",
      "------------------------------------------------------------------------------\n",
      "ar.L1         -0.9171      0.078    -11.688      0.000      -1.071      -0.763\n",
      "ar.L2         -0.8946      0.078    -11.424      0.000      -1.048      -0.741\n",
      "ar.L3         -0.6811      0.106     -6.448      0.000      -0.888      -0.474\n",
      "ar.L4         -0.1625      0.103     -1.574      0.116      -0.365       0.040\n",
      "ar.L5         -0.4660      0.062     -7.533      0.000      -0.587      -0.345\n",
      "ar.L6         -0.3221      0.058     -5.573      0.000      -0.435      -0.209\n",
      "ma.L1          0.3886      0.089      4.390      0.000       0.215       0.562\n",
      "ma.L2          0.1904      0.076      2.506      0.012       0.041       0.339\n",
      "ma.L3         -0.2522      0.074     -3.427      0.001      -0.396      -0.108\n",
      "ma.L4         -0.8007      0.086     -9.312      0.000      -0.969      -0.632\n",
      "sigma2      9838.5596    668.075     14.727      0.000    8529.156    1.11e+04\n",
      "===================================================================================\n",
      "Ljung-Box (Q):                       88.38   Jarque-Bera (JB):               690.93\n",
      "Prob(Q):                              0.00   Prob(JB):                         0.00\n",
      "Heteroskedasticity (H):               0.25   Skew:                            -0.90\n",
      "Prob(H) (two-sided):                  0.00   Kurtosis:                        10.61\n",
      "===================================================================================\n",
      "\n",
      "Warnings:\n",
      "[1] Covariance matrix calculated using the outer product of gradients (complex-step).\n",
      "                               SARIMAX Results                                \n",
      "==============================================================================\n",
      "Dep. Variable:                 counts   No. Observations:                  273\n",
      "Model:               SARIMAX(6, 1, 4)   Log Likelihood               -1653.822\n",
      "Date:                Wed, 29 Apr 2020   AIC                           3329.644\n",
      "Time:                        18:12:26   BIC                           3369.307\n",
      "Sample:                             0   HQIC                          3345.567\n",
      "                                - 273                                         \n",
      "Covariance Type:                  opg                                         \n",
      "==============================================================================\n",
      "                 coef    std err          z      P>|z|      [0.025      0.975]\n",
      "------------------------------------------------------------------------------\n",
      "ar.L1         -0.6849      0.125     -5.470      0.000      -0.930      -0.439\n",
      "ar.L2         -1.0035      0.081    -12.459      0.000      -1.161      -0.846\n",
      "ar.L3         -0.5502      0.130     -4.233      0.000      -0.805      -0.295\n",
      "ar.L4         -0.4976      0.100     -4.994      0.000      -0.693      -0.302\n",
      "ar.L5         -0.5230      0.056     -9.285      0.000      -0.633      -0.413\n",
      "ar.L6         -0.4461      0.056     -8.030      0.000      -0.555      -0.337\n",
      "ma.L1          0.1496      0.138      1.085      0.278      -0.121       0.420\n",
      "ma.L2          0.4603      0.118      3.911      0.000       0.230       0.691\n",
      "ma.L3         -0.3587      0.106     -3.385      0.001      -0.566      -0.151\n",
      "ma.L4         -0.4422      0.150     -2.948      0.003      -0.736      -0.148\n",
      "sigma2      9919.5826    614.616     16.139      0.000    8714.958    1.11e+04\n",
      "===================================================================================\n",
      "Ljung-Box (Q):                       91.75   Jarque-Bera (JB):               720.51\n",
      "Prob(Q):                              0.00   Prob(JB):                         0.00\n",
      "Heteroskedasticity (H):               0.26   Skew:                            -0.78\n",
      "Prob(H) (two-sided):                  0.00   Kurtosis:                        10.82\n",
      "===================================================================================\n",
      "\n",
      "Warnings:\n",
      "[1] Covariance matrix calculated using the outer product of gradients (complex-step).\n"
     ]
    },
    {
     "name": "stderr",
     "output_type": "stream",
     "text": [
      "C:\\Users\\casti\\AppData\\Local\\Continuum\\anaconda3\\lib\\site-packages\\statsmodels\\base\\model.py:568: ConvergenceWarning: Maximum Likelihood optimization failed to converge. Check mle_retvals\n",
      "  \"Check mle_retvals\", ConvergenceWarning)\n"
     ]
    }
   ],
   "source": [
    "fcsari = []\n",
    "for i in range(31):\n",
    "    # reinialize the model\n",
    "    ytrain = data[:243 + i]\n",
    "    mod = sm.tsa.statespace.SARIMAX(ytrain, order=(6,1,4), seasonal_order=(0, 0, 0, 10))\n",
    "#    mod.initialize()\n",
    "    res = mod.fit()\n",
    "    # do a forecast 3 periods ahead\n",
    "    ypredsari, err, conf = res.forecast(steps=3) # predicted, error, confidence\n",
    "    # collect the last forecasted point\n",
    "    fcsari.append(ypredsari)\n",
    "    print(res.summary())"
   ]
  },
  {
   "cell_type": "code",
   "execution_count": 40,
   "metadata": {},
   "outputs": [
    {
     "data": {
      "text/plain": [
       "[1296.6904057311,\n",
       " 1307.2417443953866,\n",
       " 1356.933313858991,\n",
       " 1322.6094008684922,\n",
       " 1316.337555936626,\n",
       " 1309.395012291426,\n",
       " 1325.094105508406,\n",
       " 1264.508853029462,\n",
       " 1288.7385209299625,\n",
       " 1345.7387400882687,\n",
       " 1333.3997774621562,\n",
       " 1259.525329761177,\n",
       " 1274.6943861007655,\n",
       " 1250.391789833681,\n",
       " 1207.6032480908048,\n",
       " 1293.2945336114199,\n",
       " 1380.6604861081091,\n",
       " 1320.1600601124496,\n",
       " 1202.0657705905214,\n",
       " 1234.364196062132,\n",
       " 1183.5303634910047,\n",
       " 1244.1659915588439,\n",
       " 1258.2806782762289,\n",
       " 1340.6405554458204,\n",
       " 1300.6929909335222,\n",
       " 1192.7252105766834,\n",
       " 1128.560597694281,\n",
       " 1235.3996579888687,\n",
       " 1183.768233705598,\n",
       " 1200.920509011086,\n",
       " 1191.983587013332]"
      ]
     },
     "execution_count": 40,
     "metadata": {},
     "output_type": "execute_result"
    }
   ],
   "source": [
    "fcsari"
   ]
  },
  {
   "cell_type": "code",
   "execution_count": 41,
   "metadata": {},
   "outputs": [
    {
     "data": {
      "text/plain": [
       "1191.983587013332"
      ]
     },
     "execution_count": 41,
     "metadata": {},
     "output_type": "execute_result"
    }
   ],
   "source": [
    "ypredsari"
   ]
  },
  {
   "cell_type": "code",
   "execution_count": 42,
   "metadata": {},
   "outputs": [
    {
     "data": {
      "text/plain": [
       "(array([736194.]), array([736234.]))"
      ]
     },
     "execution_count": 42,
     "metadata": {},
     "output_type": "execute_result"
    },
    {
     "data": {
      "image/png": "[encoded data removed]",
      "text/plain": [
       "<Figure size 864x720 with 1 Axes>"
      ]
     },
     "metadata": {
      "needs_background": "light"
     },
     "output_type": "display_data"
    }
   ],
   "source": [
    "plt.figure(figsize=(12, 10))\n",
    "plt.plot(NYcrime5[NYcrime5.index < 243].Datetime, y_train, color='blue')\n",
    "plt.plot(NYcrime5[NYcrime5.index >= 243].Datetime, y_test, color='black')\n",
    "plt.plot(NYcrime5[NYcrime5.index >= 243].Datetime, fcsari, color='red', marker='o')\n",
    "plt.xlim(NYcrime5[NYcrime5.index == 230].Datetime,NYcrime5[NYcrime5.index == 270].Datetime)"
   ]
  },
  {
   "cell_type": "code",
   "execution_count": 43,
   "metadata": {},
   "outputs": [
    {
     "data": {
      "text/plain": [
       "3329.643590854698"
      ]
     },
     "execution_count": 43,
     "metadata": {},
     "output_type": "execute_result"
    }
   ],
   "source": [
    "res.aic"
   ]
  },
  {
   "cell_type": "code",
   "execution_count": 44,
   "metadata": {},
   "outputs": [
    {
     "name": "stdout",
     "output_type": "stream",
     "text": [
      "                               SARIMAX Results                                \n",
      "==============================================================================\n",
      "Dep. Variable:                 counts   No. Observations:                  273\n",
      "Model:               SARIMAX(6, 1, 4)   Log Likelihood               -1653.822\n",
      "Date:                Wed, 29 Apr 2020   AIC                           3329.644\n",
      "Time:                        18:08:35   BIC                           3369.307\n",
      "Sample:                             0   HQIC                          3345.567\n",
      "                                - 273                                         \n",
      "Covariance Type:                  opg                                         \n",
      "==============================================================================\n",
      "                 coef    std err          z      P>|z|      [0.025      0.975]\n",
      "------------------------------------------------------------------------------\n",
      "ar.L1         -0.6849      0.125     -5.470      0.000      -0.930      -0.439\n",
      "ar.L2         -1.0035      0.081    -12.459      0.000      -1.161      -0.846\n",
      "ar.L3         -0.5502      0.130     -4.233      0.000      -0.805      -0.295\n",
      "ar.L4         -0.4976      0.100     -4.994      0.000      -0.693      -0.302\n",
      "ar.L5         -0.5230      0.056     -9.285      0.000      -0.633      -0.413\n",
      "ar.L6         -0.4461      0.056     -8.030      0.000      -0.555      -0.337\n",
      "ma.L1          0.1496      0.138      1.085      0.278      -0.121       0.420\n",
      "ma.L2          0.4603      0.118      3.911      0.000       0.230       0.691\n",
      "ma.L3         -0.3587      0.106     -3.385      0.001      -0.566      -0.151\n",
      "ma.L4         -0.4422      0.150     -2.948      0.003      -0.736      -0.148\n",
      "sigma2      9919.5826    614.616     16.139      0.000    8714.958    1.11e+04\n",
      "===================================================================================\n",
      "Ljung-Box (Q):                       91.75   Jarque-Bera (JB):               720.51\n",
      "Prob(Q):                              0.00   Prob(JB):                         0.00\n",
      "Heteroskedasticity (H):               0.26   Skew:                            -0.78\n",
      "Prob(H) (two-sided):                  0.00   Kurtosis:                        10.82\n",
      "===================================================================================\n",
      "\n",
      "Warnings:\n",
      "[1] Covariance matrix calculated using the outer product of gradients (complex-step).\n"
     ]
    }
   ],
   "source": [
    "print(res.summary())"
   ]
  },
  {
   "cell_type": "code",
   "execution_count": null,
   "metadata": {},
   "outputs": [],
   "source": []
  }
 ],
 "metadata": {
  "kernelspec": {
   "display_name": "Python 3",
   "language": "python",
   "name": "python3"
  },
  "language_info": {
   "codemirror_mode": {
    "name": "ipython",
    "version": 3
   },
   "file_extension": ".py",
   "mimetype": "text/x-python",
   "name": "python",
   "nbconvert_exporter": "python",
   "pygments_lexer": "ipython3",
   "version": "3.7.4"
  },
  "varInspector": {
   "cols": {
    "lenName": 16,
    "lenType": 16,
    "lenVar": 40
   },
   "kernels_config": {
    "python": {
     "delete_cmd_postfix": "",
     "delete_cmd_prefix": "del ",
     "library": "var_list.py",
     "varRefreshCmd": "print(var_dic_list())"
    },
    "r": {
     "delete_cmd_postfix": ") ",
     "delete_cmd_prefix": "rm(",
     "library": "var_list.r",
     "varRefreshCmd": "cat(var_dic_list()) "
    }
   },
   "types_to_exclude": [
    "module",
    "function",
    "builtin_function_or_method",
    "instance",
    "_Feature"
   ],
   "window_display": false
  }
 },
 "nbformat": 4,
 "nbformat_minor": 2
}
